{
 "cells": [
  {
   "cell_type": "markdown",
   "id": "smooth-happening",
   "metadata": {
    "papermill": {
     "duration": 0.042481,
     "end_time": "2021-06-04T13:07:04.763271",
     "exception": false,
     "start_time": "2021-06-04T13:07:04.720790",
     "status": "completed"
    },
    "tags": []
   },
   "source": [
    "This lesson will cover two essential Python types: **strings** and **dictionaries**."
   ]
  },
  {
   "cell_type": "markdown",
   "id": "committed-symbol",
   "metadata": {
    "papermill": {
     "duration": 0.039222,
     "end_time": "2021-06-04T13:07:04.841814",
     "exception": false,
     "start_time": "2021-06-04T13:07:04.802592",
     "status": "completed"
    },
    "tags": []
   },
   "source": [
    "# Strings"
   ]
  },
  {
   "cell_type": "markdown",
   "id": "incredible-syntax",
   "metadata": {
    "papermill": {
     "duration": 0.03921,
     "end_time": "2021-06-04T13:07:04.920002",
     "exception": false,
     "start_time": "2021-06-04T13:07:04.880792",
     "status": "completed"
    },
    "tags": []
   },
   "source": [
    "One place where the Python language really shines is in the manipulation of strings.\n",
    "This section will cover some of Python's built-in string methods and formatting operations.\n",
    "\n",
    "Such string manipulation patterns come up often in the context of data science work.\n",
    "\n",
    "## String syntax\n",
    "\n",
    "You've already seen plenty of strings in examples during the previous lessons, but just to recap, strings in Python can be defined using either single or double quotations. They are functionally equivalent."
   ]
  },
  {
   "cell_type": "code",
   "execution_count": 1,
   "id": "available-bouquet",
   "metadata": {
    "execution": {
     "iopub.execute_input": "2021-06-04T13:07:05.002494Z",
     "iopub.status.busy": "2021-06-04T13:07:05.001350Z",
     "iopub.status.idle": "2021-06-04T13:07:05.008928Z",
     "shell.execute_reply": "2021-06-04T13:07:05.009421Z"
    },
    "papermill": {
     "duration": 0.050882,
     "end_time": "2021-06-04T13:07:05.009707",
     "exception": false,
     "start_time": "2021-06-04T13:07:04.958825",
     "status": "completed"
    },
    "tags": []
   },
   "outputs": [
    {
     "data": {
      "text/plain": [
       "True"
      ]
     },
     "execution_count": 1,
     "metadata": {},
     "output_type": "execute_result"
    }
   ],
   "source": [
    "x = 'Pluto is a planet'\n",
    "y = \"Pluto is a planet\"\n",
    "x == y"
   ]
  },
  {
   "cell_type": "markdown",
   "id": "static-trouble",
   "metadata": {
    "papermill": {
     "duration": 0.039368,
     "end_time": "2021-06-04T13:07:05.089224",
     "exception": false,
     "start_time": "2021-06-04T13:07:05.049856",
     "status": "completed"
    },
    "tags": []
   },
   "source": [
    "Double quotes are convenient if your string contains a single quote character (e.g. representing an apostrophe).\n",
    "\n",
    "Similarly, it's easy to create a string that contains double-quotes if you wrap it in single quotes:"
   ]
  },
  {
   "cell_type": "code",
   "execution_count": 2,
   "id": "danish-roulette",
   "metadata": {
    "execution": {
     "iopub.execute_input": "2021-06-04T13:07:05.175437Z",
     "iopub.status.busy": "2021-06-04T13:07:05.174615Z",
     "iopub.status.idle": "2021-06-04T13:07:05.177801Z",
     "shell.execute_reply": "2021-06-04T13:07:05.178300Z"
    },
    "papermill": {
     "duration": 0.048953,
     "end_time": "2021-06-04T13:07:05.178476",
     "exception": false,
     "start_time": "2021-06-04T13:07:05.129523",
     "status": "completed"
    },
    "tags": []
   },
   "outputs": [
    {
     "name": "stdout",
     "output_type": "stream",
     "text": [
      "Pluto's a planet!\n",
      "My dog is named \"Pluto\"\n"
     ]
    }
   ],
   "source": [
    "print(\"Pluto's a planet!\")\n",
    "print('My dog is named \"Pluto\"')"
   ]
  },
  {
   "cell_type": "markdown",
   "id": "magnetic-interim",
   "metadata": {
    "papermill": {
     "duration": 0.039971,
     "end_time": "2021-06-04T13:07:05.258962",
     "exception": false,
     "start_time": "2021-06-04T13:07:05.218991",
     "status": "completed"
    },
    "tags": []
   },
   "source": [
    "If we try to put a single quote character inside a single-quoted string, Python gets confused:"
   ]
  },
  {
   "cell_type": "code",
   "execution_count": 3,
   "id": "concerned-mixture",
   "metadata": {
    "execution": {
     "iopub.execute_input": "2021-06-04T13:07:05.344976Z",
     "iopub.status.busy": "2021-06-04T13:07:05.344017Z",
     "iopub.status.idle": "2021-06-04T13:07:05.349646Z",
     "shell.execute_reply": "2021-06-04T13:07:05.350178Z"
    },
    "papermill": {
     "duration": 0.049553,
     "end_time": "2021-06-04T13:07:05.350415",
     "exception": false,
     "start_time": "2021-06-04T13:07:05.300862",
     "status": "completed"
    },
    "tags": [
     "raises-exception"
    ]
   },
   "outputs": [
    {
     "ename": "SyntaxError",
     "evalue": "invalid syntax (<ipython-input-3-a43631749f52>, line 1)",
     "output_type": "error",
     "traceback": [
      "\u001b[0;36m  File \u001b[0;32m\"<ipython-input-3-a43631749f52>\"\u001b[0;36m, line \u001b[0;32m1\u001b[0m\n\u001b[0;31m    'Pluto's a planet!'\u001b[0m\n\u001b[0m           ^\u001b[0m\n\u001b[0;31mSyntaxError\u001b[0m\u001b[0;31m:\u001b[0m invalid syntax\n"
     ]
    }
   ],
   "source": [
    "'Pluto's a planet!'"
   ]
  },
  {
   "cell_type": "markdown",
   "id": "alleged-retirement",
   "metadata": {
    "papermill": {
     "duration": 0.042822,
     "end_time": "2021-06-04T13:07:05.435656",
     "exception": false,
     "start_time": "2021-06-04T13:07:05.392834",
     "status": "completed"
    },
    "tags": []
   },
   "source": [
    "We can fix this by \"escaping\" the single quote with a backslash. "
   ]
  },
  {
   "cell_type": "code",
   "execution_count": 4,
   "id": "every-kennedy",
   "metadata": {
    "execution": {
     "iopub.execute_input": "2021-06-04T13:07:05.523320Z",
     "iopub.status.busy": "2021-06-04T13:07:05.522343Z",
     "iopub.status.idle": "2021-06-04T13:07:05.528668Z",
     "shell.execute_reply": "2021-06-04T13:07:05.528126Z"
    },
    "papermill": {
     "duration": 0.050436,
     "end_time": "2021-06-04T13:07:05.528805",
     "exception": false,
     "start_time": "2021-06-04T13:07:05.478369",
     "status": "completed"
    },
    "tags": []
   },
   "outputs": [
    {
     "data": {
      "text/plain": [
       "\"Pluto's a planet!\""
      ]
     },
     "execution_count": 4,
     "metadata": {},
     "output_type": "execute_result"
    }
   ],
   "source": [
    "'Pluto\\'s a planet!'"
   ]
  },
  {
   "cell_type": "markdown",
   "id": "minimal-lying",
   "metadata": {
    "papermill": {
     "duration": 0.041169,
     "end_time": "2021-06-04T13:07:05.611311",
     "exception": false,
     "start_time": "2021-06-04T13:07:05.570142",
     "status": "completed"
    },
    "tags": []
   },
   "source": [
    "The table below summarizes some important uses of the backslash character.\n",
    "\n",
    "| What you type... | What you get | example               | `print(example)`             |\n",
    "|--------------|----------------|--------------------------------------------------------|\n",
    "| `\\'`         | `'`            | `'What\\'s up?'`         | `What's up?`                 |  \n",
    "| `\\\"`         | `\"`            | `\"That's \\\"cool\\\"\"`     | `That's \"cool\"`              |  \n",
    "| `\\\\`         | `\\`            |  `\"Look, a mountain: /\\\\\"` |  `Look, a mountain: /\\`  |\n",
    "| `\\n`        |   <br/>      |   `\"1\\n2 3\"`                       |   `1`<br/>`2 3`              |"
   ]
  },
  {
   "cell_type": "markdown",
   "id": "italic-scope",
   "metadata": {
    "papermill": {
     "duration": 0.041361,
     "end_time": "2021-06-04T13:07:05.694200",
     "exception": false,
     "start_time": "2021-06-04T13:07:05.652839",
     "status": "completed"
    },
    "tags": []
   },
   "source": [
    "The last sequence, `\\n`, represents the *newline character*. It causes Python to start a new line."
   ]
  },
  {
   "cell_type": "code",
   "execution_count": 5,
   "id": "reserved-shepherd",
   "metadata": {
    "execution": {
     "iopub.execute_input": "2021-06-04T13:07:05.784381Z",
     "iopub.status.busy": "2021-06-04T13:07:05.783383Z",
     "iopub.status.idle": "2021-06-04T13:07:05.786690Z",
     "shell.execute_reply": "2021-06-04T13:07:05.787209Z"
    },
    "papermill": {
     "duration": 0.050948,
     "end_time": "2021-06-04T13:07:05.787402",
     "exception": false,
     "start_time": "2021-06-04T13:07:05.736454",
     "status": "completed"
    },
    "tags": []
   },
   "outputs": [
    {
     "name": "stdout",
     "output_type": "stream",
     "text": [
      "hello\n",
      "world\n"
     ]
    }
   ],
   "source": [
    "hello = \"hello\\nworld\"\n",
    "print(hello)"
   ]
  },
  {
   "cell_type": "markdown",
   "id": "nervous-quantity",
   "metadata": {
    "papermill": {
     "duration": 0.042132,
     "end_time": "2021-06-04T13:07:05.871670",
     "exception": false,
     "start_time": "2021-06-04T13:07:05.829538",
     "status": "completed"
    },
    "tags": []
   },
   "source": [
    "In addition, Python's triple quote syntax for strings lets us include newlines literally (i.e. by just hitting 'Enter' on our keyboard, rather than using the special '\\n' sequence). We've already seen this in the docstrings we use to document our functions, but we can use them anywhere we want to define a string."
   ]
  },
  {
   "cell_type": "code",
   "execution_count": 6,
   "id": "adjustable-robin",
   "metadata": {
    "execution": {
     "iopub.execute_input": "2021-06-04T13:07:05.962754Z",
     "iopub.status.busy": "2021-06-04T13:07:05.961767Z",
     "iopub.status.idle": "2021-06-04T13:07:05.966577Z",
     "shell.execute_reply": "2021-06-04T13:07:05.965937Z"
    },
    "papermill": {
     "duration": 0.052782,
     "end_time": "2021-06-04T13:07:05.966715",
     "exception": false,
     "start_time": "2021-06-04T13:07:05.913933",
     "status": "completed"
    },
    "tags": []
   },
   "outputs": [
    {
     "name": "stdout",
     "output_type": "stream",
     "text": [
      "hello\n",
      "world\n"
     ]
    },
    {
     "data": {
      "text/plain": [
       "True"
      ]
     },
     "execution_count": 6,
     "metadata": {},
     "output_type": "execute_result"
    }
   ],
   "source": [
    "triplequoted_hello = \"\"\"hello\n",
    "world\"\"\"\n",
    "print(triplequoted_hello)\n",
    "triplequoted_hello == hello"
   ]
  },
  {
   "cell_type": "markdown",
   "id": "least-natural",
   "metadata": {
    "papermill": {
     "duration": 0.043056,
     "end_time": "2021-06-04T13:07:06.052250",
     "exception": false,
     "start_time": "2021-06-04T13:07:06.009194",
     "status": "completed"
    },
    "tags": []
   },
   "source": [
    "The `print()` function automatically adds a newline character unless we specify a value for the keyword argument `end` other than the default value of `'\\n'`:"
   ]
  },
  {
   "cell_type": "code",
   "execution_count": 7,
   "id": "medieval-pressure",
   "metadata": {
    "execution": {
     "iopub.execute_input": "2021-06-04T13:07:06.141625Z",
     "iopub.status.busy": "2021-06-04T13:07:06.140940Z",
     "iopub.status.idle": "2021-06-04T13:07:06.147053Z",
     "shell.execute_reply": "2021-06-04T13:07:06.146573Z"
    },
    "papermill": {
     "duration": 0.051614,
     "end_time": "2021-06-04T13:07:06.147213",
     "exception": false,
     "start_time": "2021-06-04T13:07:06.095599",
     "status": "completed"
    },
    "tags": []
   },
   "outputs": [
    {
     "name": "stdout",
     "output_type": "stream",
     "text": [
      "hello\n",
      "world\n",
      "hellopluto"
     ]
    }
   ],
   "source": [
    "print(\"hello\")\n",
    "print(\"world\")\n",
    "print(\"hello\", end='')\n",
    "print(\"pluto\", end='')"
   ]
  },
  {
   "cell_type": "markdown",
   "id": "bottom-garbage",
   "metadata": {
    "papermill": {
     "duration": 0.042513,
     "end_time": "2021-06-04T13:07:06.233013",
     "exception": false,
     "start_time": "2021-06-04T13:07:06.190500",
     "status": "completed"
    },
    "tags": []
   },
   "source": [
    "## Strings are sequences\n",
    "\n",
    "Strings can be thought of as sequences of characters. Almost everything we've seen that we can do to a list, we can also do to a string."
   ]
  },
  {
   "cell_type": "code",
   "execution_count": 8,
   "id": "lasting-plastic",
   "metadata": {
    "execution": {
     "iopub.execute_input": "2021-06-04T13:07:06.342135Z",
     "iopub.status.busy": "2021-06-04T13:07:06.340835Z",
     "iopub.status.idle": "2021-06-04T13:07:06.347831Z",
     "shell.execute_reply": "2021-06-04T13:07:06.348570Z"
    },
    "papermill": {
     "duration": 0.070048,
     "end_time": "2021-06-04T13:07:06.348810",
     "exception": false,
     "start_time": "2021-06-04T13:07:06.278762",
     "status": "completed"
    },
    "tags": []
   },
   "outputs": [
    {
     "data": {
      "text/plain": [
       "'P'"
      ]
     },
     "execution_count": 8,
     "metadata": {},
     "output_type": "execute_result"
    }
   ],
   "source": [
    "# Indexing\n",
    "planet = 'Pluto'\n",
    "planet[0]"
   ]
  },
  {
   "cell_type": "code",
   "execution_count": 9,
   "id": "bacterial-style",
   "metadata": {
    "execution": {
     "iopub.execute_input": "2021-06-04T13:07:06.453791Z",
     "iopub.status.busy": "2021-06-04T13:07:06.452713Z",
     "iopub.status.idle": "2021-06-04T13:07:06.458612Z",
     "shell.execute_reply": "2021-06-04T13:07:06.459120Z"
    },
    "papermill": {
     "duration": 0.054563,
     "end_time": "2021-06-04T13:07:06.459295",
     "exception": false,
     "start_time": "2021-06-04T13:07:06.404732",
     "status": "completed"
    },
    "tags": []
   },
   "outputs": [
    {
     "data": {
      "text/plain": [
       "'uto'"
      ]
     },
     "execution_count": 9,
     "metadata": {},
     "output_type": "execute_result"
    }
   ],
   "source": [
    "# Slicing\n",
    "planet[-3:]"
   ]
  },
  {
   "cell_type": "code",
   "execution_count": 10,
   "id": "attached-distributor",
   "metadata": {
    "execution": {
     "iopub.execute_input": "2021-06-04T13:07:06.554317Z",
     "iopub.status.busy": "2021-06-04T13:07:06.553281Z",
     "iopub.status.idle": "2021-06-04T13:07:06.558423Z",
     "shell.execute_reply": "2021-06-04T13:07:06.558866Z"
    },
    "papermill": {
     "duration": 0.055511,
     "end_time": "2021-06-04T13:07:06.559038",
     "exception": false,
     "start_time": "2021-06-04T13:07:06.503527",
     "status": "completed"
    },
    "tags": []
   },
   "outputs": [
    {
     "data": {
      "text/plain": [
       "5"
      ]
     },
     "execution_count": 10,
     "metadata": {},
     "output_type": "execute_result"
    }
   ],
   "source": [
    "# How long is this string?\n",
    "len(planet)"
   ]
  },
  {
   "cell_type": "code",
   "execution_count": 11,
   "id": "permanent-motivation",
   "metadata": {
    "execution": {
     "iopub.execute_input": "2021-06-04T13:07:06.651775Z",
     "iopub.status.busy": "2021-06-04T13:07:06.650787Z",
     "iopub.status.idle": "2021-06-04T13:07:06.656322Z",
     "shell.execute_reply": "2021-06-04T13:07:06.656759Z"
    },
    "papermill": {
     "duration": 0.053488,
     "end_time": "2021-06-04T13:07:06.656933",
     "exception": false,
     "start_time": "2021-06-04T13:07:06.603445",
     "status": "completed"
    },
    "tags": []
   },
   "outputs": [
    {
     "data": {
      "text/plain": [
       "['P! ', 'l! ', 'u! ', 't! ', 'o! ']"
      ]
     },
     "execution_count": 11,
     "metadata": {},
     "output_type": "execute_result"
    }
   ],
   "source": [
    "# Yes, we can even loop over them\n",
    "[char+'! ' for char in planet]"
   ]
  },
  {
   "cell_type": "markdown",
   "id": "voluntary-landing",
   "metadata": {
    "papermill": {
     "duration": 0.044818,
     "end_time": "2021-06-04T13:07:06.746385",
     "exception": false,
     "start_time": "2021-06-04T13:07:06.701567",
     "status": "completed"
    },
    "tags": []
   },
   "source": [
    "But a major way in which they differ from lists is that they are *immutable*. We can't modify them."
   ]
  },
  {
   "cell_type": "code",
   "execution_count": 12,
   "id": "hispanic-philadelphia",
   "metadata": {
    "execution": {
     "iopub.execute_input": "2021-06-04T13:07:06.866723Z",
     "iopub.status.busy": "2021-06-04T13:07:06.865738Z",
     "iopub.status.idle": "2021-06-04T13:07:06.919668Z",
     "shell.execute_reply": "2021-06-04T13:07:06.920419Z"
    },
    "papermill": {
     "duration": 0.113934,
     "end_time": "2021-06-04T13:07:06.920634",
     "exception": false,
     "start_time": "2021-06-04T13:07:06.806700",
     "status": "completed"
    },
    "tags": [
     "raises-exception"
    ]
   },
   "outputs": [
    {
     "ename": "TypeError",
     "evalue": "'str' object does not support item assignment",
     "output_type": "error",
     "traceback": [
      "\u001b[0;31m---------------------------------------------------------------------------\u001b[0m",
      "\u001b[0;31mTypeError\u001b[0m                                 Traceback (most recent call last)",
      "\u001b[0;32m<ipython-input-12-6ca42463b9f9>\u001b[0m in \u001b[0;36m<module>\u001b[0;34m\u001b[0m\n\u001b[0;32m----> 1\u001b[0;31m \u001b[0mplanet\u001b[0m\u001b[0;34m[\u001b[0m\u001b[0;36m0\u001b[0m\u001b[0;34m]\u001b[0m \u001b[0;34m=\u001b[0m \u001b[0;34m'B'\u001b[0m\u001b[0;34m\u001b[0m\u001b[0;34m\u001b[0m\u001b[0m\n\u001b[0m\u001b[1;32m      2\u001b[0m \u001b[0;31m# planet.append doesn't work either\u001b[0m\u001b[0;34m\u001b[0m\u001b[0;34m\u001b[0m\u001b[0;34m\u001b[0m\u001b[0m\n",
      "\u001b[0;31mTypeError\u001b[0m: 'str' object does not support item assignment"
     ]
    }
   ],
   "source": [
    "planet[0] = 'B'\n",
    "# planet.append doesn't work either"
   ]
  },
  {
   "cell_type": "markdown",
   "id": "under-reproduction",
   "metadata": {
    "papermill": {
     "duration": 0.047378,
     "end_time": "2021-06-04T13:07:07.015019",
     "exception": false,
     "start_time": "2021-06-04T13:07:06.967641",
     "status": "completed"
    },
    "tags": []
   },
   "source": [
    "## String methods\n",
    "\n",
    "Like `list`, the type `str` has lots of very useful methods. I'll show just a few examples here."
   ]
  },
  {
   "cell_type": "code",
   "execution_count": 13,
   "id": "urban-coral",
   "metadata": {
    "execution": {
     "iopub.execute_input": "2021-06-04T13:07:07.121481Z",
     "iopub.status.busy": "2021-06-04T13:07:07.120482Z",
     "iopub.status.idle": "2021-06-04T13:07:07.127457Z",
     "shell.execute_reply": "2021-06-04T13:07:07.126874Z"
    },
    "papermill": {
     "duration": 0.059392,
     "end_time": "2021-06-04T13:07:07.127617",
     "exception": false,
     "start_time": "2021-06-04T13:07:07.068225",
     "status": "completed"
    },
    "tags": []
   },
   "outputs": [
    {
     "data": {
      "text/plain": [
       "'PLUTO IS A PLANET!'"
      ]
     },
     "execution_count": 13,
     "metadata": {},
     "output_type": "execute_result"
    }
   ],
   "source": [
    "# ALL CAPS\n",
    "claim = \"Pluto is a planet!\"\n",
    "claim.upper()"
   ]
  },
  {
   "cell_type": "code",
   "execution_count": 14,
   "id": "spare-moses",
   "metadata": {
    "execution": {
     "iopub.execute_input": "2021-06-04T13:07:07.228229Z",
     "iopub.status.busy": "2021-06-04T13:07:07.227220Z",
     "iopub.status.idle": "2021-06-04T13:07:07.232619Z",
     "shell.execute_reply": "2021-06-04T13:07:07.231944Z"
    },
    "papermill": {
     "duration": 0.057723,
     "end_time": "2021-06-04T13:07:07.232765",
     "exception": false,
     "start_time": "2021-06-04T13:07:07.175042",
     "status": "completed"
    },
    "tags": []
   },
   "outputs": [
    {
     "data": {
      "text/plain": [
       "'pluto is a planet!'"
      ]
     },
     "execution_count": 14,
     "metadata": {},
     "output_type": "execute_result"
    }
   ],
   "source": [
    "# all lowercase\n",
    "claim.lower()"
   ]
  },
  {
   "cell_type": "code",
   "execution_count": 15,
   "id": "loving-keyboard",
   "metadata": {
    "execution": {
     "iopub.execute_input": "2021-06-04T13:07:07.334332Z",
     "iopub.status.busy": "2021-06-04T13:07:07.333331Z",
     "iopub.status.idle": "2021-06-04T13:07:07.338596Z",
     "shell.execute_reply": "2021-06-04T13:07:07.337865Z"
    },
    "papermill": {
     "duration": 0.058859,
     "end_time": "2021-06-04T13:07:07.338764",
     "exception": false,
     "start_time": "2021-06-04T13:07:07.279905",
     "status": "completed"
    },
    "tags": []
   },
   "outputs": [
    {
     "data": {
      "text/plain": [
       "11"
      ]
     },
     "execution_count": 15,
     "metadata": {},
     "output_type": "execute_result"
    }
   ],
   "source": [
    "# Searching for the first index of a substring\n",
    "claim.index('plan')"
   ]
  },
  {
   "cell_type": "code",
   "execution_count": 16,
   "id": "modified-jonathan",
   "metadata": {
    "execution": {
     "iopub.execute_input": "2021-06-04T13:07:07.442252Z",
     "iopub.status.busy": "2021-06-04T13:07:07.441239Z",
     "iopub.status.idle": "2021-06-04T13:07:07.446617Z",
     "shell.execute_reply": "2021-06-04T13:07:07.447077Z"
    },
    "papermill": {
     "duration": 0.058687,
     "end_time": "2021-06-04T13:07:07.447281",
     "exception": false,
     "start_time": "2021-06-04T13:07:07.388594",
     "status": "completed"
    },
    "tags": []
   },
   "outputs": [
    {
     "data": {
      "text/plain": [
       "True"
      ]
     },
     "execution_count": 16,
     "metadata": {},
     "output_type": "execute_result"
    }
   ],
   "source": [
    "claim.startswith(planet)"
   ]
  },
  {
   "cell_type": "code",
   "execution_count": 17,
   "id": "analyzed-knock",
   "metadata": {
    "execution": {
     "iopub.execute_input": "2021-06-04T13:07:07.548237Z",
     "iopub.status.busy": "2021-06-04T13:07:07.547246Z",
     "iopub.status.idle": "2021-06-04T13:07:07.553369Z",
     "shell.execute_reply": "2021-06-04T13:07:07.553902Z"
    },
    "papermill": {
     "duration": 0.057639,
     "end_time": "2021-06-04T13:07:07.554126",
     "exception": false,
     "start_time": "2021-06-04T13:07:07.496487",
     "status": "completed"
    },
    "tags": []
   },
   "outputs": [
    {
     "data": {
      "text/plain": [
       "False"
      ]
     },
     "execution_count": 17,
     "metadata": {},
     "output_type": "execute_result"
    }
   ],
   "source": [
    "claim.endswith('dwarf planet')"
   ]
  },
  {
   "cell_type": "markdown",
   "id": "damaged-domain",
   "metadata": {
    "papermill": {
     "duration": 0.048364,
     "end_time": "2021-06-04T13:07:07.650331",
     "exception": false,
     "start_time": "2021-06-04T13:07:07.601967",
     "status": "completed"
    },
    "tags": []
   },
   "source": [
    "### Going between strings and lists: `.split()` and `.join()`\n",
    "\n",
    "`str.split()` turns a string into a list of smaller strings, breaking on whitespace by default. This is super useful for taking you from one big string to a list of words."
   ]
  },
  {
   "cell_type": "code",
   "execution_count": 18,
   "id": "fifty-radical",
   "metadata": {
    "execution": {
     "iopub.execute_input": "2021-06-04T13:07:07.750555Z",
     "iopub.status.busy": "2021-06-04T13:07:07.749900Z",
     "iopub.status.idle": "2021-06-04T13:07:07.755268Z",
     "shell.execute_reply": "2021-06-04T13:07:07.755745Z"
    },
    "papermill": {
     "duration": 0.056746,
     "end_time": "2021-06-04T13:07:07.755923",
     "exception": false,
     "start_time": "2021-06-04T13:07:07.699177",
     "status": "completed"
    },
    "tags": []
   },
   "outputs": [
    {
     "data": {
      "text/plain": [
       "['Pluto', 'is', 'a', 'planet!']"
      ]
     },
     "execution_count": 18,
     "metadata": {},
     "output_type": "execute_result"
    }
   ],
   "source": [
    "words = claim.split()\n",
    "words"
   ]
  },
  {
   "cell_type": "markdown",
   "id": "uniform-notion",
   "metadata": {
    "papermill": {
     "duration": 0.049884,
     "end_time": "2021-06-04T13:07:07.854930",
     "exception": false,
     "start_time": "2021-06-04T13:07:07.805046",
     "status": "completed"
    },
    "tags": []
   },
   "source": [
    "Occasionally you'll want to split on something other than whitespace:"
   ]
  },
  {
   "cell_type": "code",
   "execution_count": 19,
   "id": "fresh-senior",
   "metadata": {
    "collapsed": true,
    "execution": {
     "iopub.execute_input": "2021-06-04T13:07:07.960120Z",
     "iopub.status.busy": "2021-06-04T13:07:07.959285Z",
     "iopub.status.idle": "2021-06-04T13:07:07.962415Z",
     "shell.execute_reply": "2021-06-04T13:07:07.961900Z"
    },
    "papermill": {
     "duration": 0.057674,
     "end_time": "2021-06-04T13:07:07.962574",
     "exception": false,
     "start_time": "2021-06-04T13:07:07.904900",
     "status": "completed"
    },
    "tags": []
   },
   "outputs": [],
   "source": [
    "datestr = '1956-01-31'\n",
    "year, month, day = datestr.split('-')"
   ]
  },
  {
   "cell_type": "markdown",
   "id": "catholic-virginia",
   "metadata": {
    "papermill": {
     "duration": 0.048854,
     "end_time": "2021-06-04T13:07:08.062226",
     "exception": false,
     "start_time": "2021-06-04T13:07:08.013372",
     "status": "completed"
    },
    "tags": []
   },
   "source": [
    "`str.join()` takes us in the other direction, sewing a list of strings up into one long string, using the string it was called on as a separator."
   ]
  },
  {
   "cell_type": "code",
   "execution_count": 20,
   "id": "approximate-modification",
   "metadata": {
    "execution": {
     "iopub.execute_input": "2021-06-04T13:07:08.168249Z",
     "iopub.status.busy": "2021-06-04T13:07:08.167460Z",
     "iopub.status.idle": "2021-06-04T13:07:08.173009Z",
     "shell.execute_reply": "2021-06-04T13:07:08.172401Z"
    },
    "papermill": {
     "duration": 0.061052,
     "end_time": "2021-06-04T13:07:08.173189",
     "exception": false,
     "start_time": "2021-06-04T13:07:08.112137",
     "status": "completed"
    },
    "tags": []
   },
   "outputs": [
    {
     "data": {
      "text/plain": [
       "'01/31/1956'"
      ]
     },
     "execution_count": 20,
     "metadata": {},
     "output_type": "execute_result"
    }
   ],
   "source": [
    "'/'.join([month, day, year])"
   ]
  },
  {
   "cell_type": "code",
   "execution_count": 21,
   "id": "neutral-circle",
   "metadata": {
    "execution": {
     "iopub.execute_input": "2021-06-04T13:07:08.278350Z",
     "iopub.status.busy": "2021-06-04T13:07:08.277635Z",
     "iopub.status.idle": "2021-06-04T13:07:08.282941Z",
     "shell.execute_reply": "2021-06-04T13:07:08.282424Z"
    },
    "papermill": {
     "duration": 0.05959,
     "end_time": "2021-06-04T13:07:08.283121",
     "exception": false,
     "start_time": "2021-06-04T13:07:08.223531",
     "status": "completed"
    },
    "tags": []
   },
   "outputs": [
    {
     "data": {
      "text/plain": [
       "'PLUTO 👏 IS 👏 A 👏 PLANET!'"
      ]
     },
     "execution_count": 21,
     "metadata": {},
     "output_type": "execute_result"
    }
   ],
   "source": [
    "# Yes, we can put unicode characters right in our string literals :)\n",
    "' 👏 '.join([word.upper() for word in words])"
   ]
  },
  {
   "cell_type": "markdown",
   "id": "hungarian-flavor",
   "metadata": {
    "papermill": {
     "duration": 0.052421,
     "end_time": "2021-06-04T13:07:08.388335",
     "exception": false,
     "start_time": "2021-06-04T13:07:08.335914",
     "status": "completed"
    },
    "tags": []
   },
   "source": [
    "### Building strings with `.format()`\n",
    "\n",
    "Python lets us concatenate strings with the `+` operator."
   ]
  },
  {
   "cell_type": "code",
   "execution_count": 22,
   "id": "alternative-ready",
   "metadata": {
    "execution": {
     "iopub.execute_input": "2021-06-04T13:07:08.495327Z",
     "iopub.status.busy": "2021-06-04T13:07:08.494519Z",
     "iopub.status.idle": "2021-06-04T13:07:08.498717Z",
     "shell.execute_reply": "2021-06-04T13:07:08.499248Z"
    },
    "papermill": {
     "duration": 0.060583,
     "end_time": "2021-06-04T13:07:08.499426",
     "exception": false,
     "start_time": "2021-06-04T13:07:08.438843",
     "status": "completed"
    },
    "tags": []
   },
   "outputs": [
    {
     "data": {
      "text/plain": [
       "'Pluto, we miss you.'"
      ]
     },
     "execution_count": 22,
     "metadata": {},
     "output_type": "execute_result"
    }
   ],
   "source": [
    "planet + ', we miss you.'"
   ]
  },
  {
   "cell_type": "markdown",
   "id": "turned-document",
   "metadata": {
    "papermill": {
     "duration": 0.049763,
     "end_time": "2021-06-04T13:07:08.600005",
     "exception": false,
     "start_time": "2021-06-04T13:07:08.550242",
     "status": "completed"
    },
    "tags": []
   },
   "source": [
    "If we want to throw in any non-string objects, we have to be careful to call `str()` on them first"
   ]
  },
  {
   "cell_type": "code",
   "execution_count": 23,
   "id": "rural-nightlife",
   "metadata": {
    "execution": {
     "iopub.execute_input": "2021-06-04T13:07:08.714382Z",
     "iopub.status.busy": "2021-06-04T13:07:08.713673Z",
     "iopub.status.idle": "2021-06-04T13:07:08.717558Z",
     "shell.execute_reply": "2021-06-04T13:07:08.718126Z"
    },
    "papermill": {
     "duration": 0.067766,
     "end_time": "2021-06-04T13:07:08.718313",
     "exception": false,
     "start_time": "2021-06-04T13:07:08.650547",
     "status": "completed"
    },
    "tags": [
     "raises-exception"
    ]
   },
   "outputs": [
    {
     "ename": "TypeError",
     "evalue": "can only concatenate str (not \"int\") to str",
     "output_type": "error",
     "traceback": [
      "\u001b[0;31m---------------------------------------------------------------------------\u001b[0m",
      "\u001b[0;31mTypeError\u001b[0m                                 Traceback (most recent call last)",
      "\u001b[0;32m<ipython-input-23-73295f9638cc>\u001b[0m in \u001b[0;36m<module>\u001b[0;34m\u001b[0m\n\u001b[1;32m      1\u001b[0m \u001b[0mposition\u001b[0m \u001b[0;34m=\u001b[0m \u001b[0;36m9\u001b[0m\u001b[0;34m\u001b[0m\u001b[0;34m\u001b[0m\u001b[0m\n\u001b[0;32m----> 2\u001b[0;31m \u001b[0mplanet\u001b[0m \u001b[0;34m+\u001b[0m \u001b[0;34m\", you'll always be the \"\u001b[0m \u001b[0;34m+\u001b[0m \u001b[0mposition\u001b[0m \u001b[0;34m+\u001b[0m \u001b[0;34m\"th planet to me.\"\u001b[0m\u001b[0;34m\u001b[0m\u001b[0;34m\u001b[0m\u001b[0m\n\u001b[0m",
      "\u001b[0;31mTypeError\u001b[0m: can only concatenate str (not \"int\") to str"
     ]
    }
   ],
   "source": [
    "position = 9\n",
    "planet + \", you'll always be the \" + position + \"th planet to me.\""
   ]
  },
  {
   "cell_type": "code",
   "execution_count": 24,
   "id": "dominant-evaluation",
   "metadata": {
    "execution": {
     "iopub.execute_input": "2021-06-04T13:07:08.824490Z",
     "iopub.status.busy": "2021-06-04T13:07:08.823706Z",
     "iopub.status.idle": "2021-06-04T13:07:08.828887Z",
     "shell.execute_reply": "2021-06-04T13:07:08.829407Z"
    },
    "papermill": {
     "duration": 0.060318,
     "end_time": "2021-06-04T13:07:08.829594",
     "exception": false,
     "start_time": "2021-06-04T13:07:08.769276",
     "status": "completed"
    },
    "tags": []
   },
   "outputs": [
    {
     "data": {
      "text/plain": [
       "\"Pluto, you'll always be the 9th planet to me.\""
      ]
     },
     "execution_count": 24,
     "metadata": {},
     "output_type": "execute_result"
    }
   ],
   "source": [
    "planet + \", you'll always be the \" + str(position) + \"th planet to me.\""
   ]
  },
  {
   "cell_type": "markdown",
   "id": "challenging-cedar",
   "metadata": {
    "papermill": {
     "duration": 0.051168,
     "end_time": "2021-06-04T13:07:08.932729",
     "exception": false,
     "start_time": "2021-06-04T13:07:08.881561",
     "status": "completed"
    },
    "tags": []
   },
   "source": [
    "This is getting hard to read and annoying to type. `str.format()` to the rescue."
   ]
  },
  {
   "cell_type": "code",
   "execution_count": 25,
   "id": "invalid-implementation",
   "metadata": {
    "execution": {
     "iopub.execute_input": "2021-06-04T13:07:09.041381Z",
     "iopub.status.busy": "2021-06-04T13:07:09.040573Z",
     "iopub.status.idle": "2021-06-04T13:07:09.046512Z",
     "shell.execute_reply": "2021-06-04T13:07:09.045905Z"
    },
    "papermill": {
     "duration": 0.060652,
     "end_time": "2021-06-04T13:07:09.046673",
     "exception": false,
     "start_time": "2021-06-04T13:07:08.986021",
     "status": "completed"
    },
    "tags": []
   },
   "outputs": [
    {
     "data": {
      "text/plain": [
       "\"Pluto, you'll always be the 9th planet to me.\""
      ]
     },
     "execution_count": 25,
     "metadata": {},
     "output_type": "execute_result"
    }
   ],
   "source": [
    "\"{}, you'll always be the {}th planet to me.\".format(planet, position)"
   ]
  },
  {
   "cell_type": "markdown",
   "id": "seeing-netscape",
   "metadata": {
    "papermill": {
     "duration": 0.052125,
     "end_time": "2021-06-04T13:07:09.150379",
     "exception": false,
     "start_time": "2021-06-04T13:07:09.098254",
     "status": "completed"
    },
    "tags": []
   },
   "source": [
    "So much cleaner! We call `.format()` on a \"format string\", where the Python values we want to insert are represented with `{}` placeholders.\n",
    "\n",
    "Notice how we didn't even have to call `str()` to convert `position` from an int. `format()` takes care of that for us.\n",
    "\n",
    "If that was all that `format()` did, it would still be incredibly useful. But as it turns out, it can do a *lot* more. Here's just a taste:"
   ]
  },
  {
   "cell_type": "code",
   "execution_count": 26,
   "id": "rising-museum",
   "metadata": {
    "execution": {
     "iopub.execute_input": "2021-06-04T13:07:09.259163Z",
     "iopub.status.busy": "2021-06-04T13:07:09.258463Z",
     "iopub.status.idle": "2021-06-04T13:07:09.262378Z",
     "shell.execute_reply": "2021-06-04T13:07:09.261837Z"
    },
    "papermill": {
     "duration": 0.060612,
     "end_time": "2021-06-04T13:07:09.262527",
     "exception": false,
     "start_time": "2021-06-04T13:07:09.201915",
     "status": "completed"
    },
    "tags": []
   },
   "outputs": [
    {
     "data": {
      "text/plain": [
       "\"Pluto weighs about 1.3e+22 kilograms (0.218% of Earth's mass). It is home to 52,910,390 Plutonians.\""
      ]
     },
     "execution_count": 26,
     "metadata": {},
     "output_type": "execute_result"
    }
   ],
   "source": [
    "pluto_mass = 1.303 * 10**22\n",
    "earth_mass = 5.9722 * 10**24\n",
    "population = 52910390\n",
    "#         2 decimal points   3 decimal points, format as percent     separate with commas\n",
    "\"{} weighs about {:.2} kilograms ({:.3%} of Earth's mass). It is home to {:,} Plutonians.\".format(\n",
    "    planet, pluto_mass, pluto_mass / earth_mass, population,\n",
    ")"
   ]
  },
  {
   "cell_type": "code",
   "execution_count": 27,
   "id": "executed-printing",
   "metadata": {
    "execution": {
     "iopub.execute_input": "2021-06-04T13:07:09.373487Z",
     "iopub.status.busy": "2021-06-04T13:07:09.372719Z",
     "iopub.status.idle": "2021-06-04T13:07:09.376351Z",
     "shell.execute_reply": "2021-06-04T13:07:09.375784Z"
    },
    "papermill": {
     "duration": 0.06186,
     "end_time": "2021-06-04T13:07:09.376500",
     "exception": false,
     "start_time": "2021-06-04T13:07:09.314640",
     "status": "completed"
    },
    "tags": []
   },
   "outputs": [
    {
     "name": "stdout",
     "output_type": "stream",
     "text": [
      "Pluto's a planet.\n",
      "No, it's a dwarf planet.\n",
      "planet!\n",
      "dwarf planet!\n"
     ]
    }
   ],
   "source": [
    "# Referring to format() arguments by index, starting from 0\n",
    "s = \"\"\"Pluto's a {0}.\n",
    "No, it's a {1}.\n",
    "{0}!\n",
    "{1}!\"\"\".format('planet', 'dwarf planet')\n",
    "print(s)"
   ]
  },
  {
   "cell_type": "markdown",
   "id": "mental-parameter",
   "metadata": {
    "papermill": {
     "duration": 0.05201,
     "end_time": "2021-06-04T13:07:09.481702",
     "exception": false,
     "start_time": "2021-06-04T13:07:09.429692",
     "status": "completed"
    },
    "tags": []
   },
   "source": [
    "You could probably write a short book just on `str.format`, so I'll stop here, and point you to [pyformat.info](https://pyformat.info/) and [the official docs](https://docs.python.org/3/library/string.html#formatstrings) for further reading."
   ]
  },
  {
   "cell_type": "markdown",
   "id": "military-history",
   "metadata": {
    "papermill": {
     "duration": 0.052058,
     "end_time": "2021-06-04T13:07:09.585851",
     "exception": false,
     "start_time": "2021-06-04T13:07:09.533793",
     "status": "completed"
    },
    "tags": []
   },
   "source": [
    "# Dictionaries\n",
    "\n",
    "Dictionaries are a built-in Python data structure for mapping keys to values."
   ]
  },
  {
   "cell_type": "code",
   "execution_count": 28,
   "id": "egyptian-template",
   "metadata": {
    "collapsed": true,
    "execution": {
     "iopub.execute_input": "2021-06-04T13:07:09.695517Z",
     "iopub.status.busy": "2021-06-04T13:07:09.694701Z",
     "iopub.status.idle": "2021-06-04T13:07:09.698049Z",
     "shell.execute_reply": "2021-06-04T13:07:09.697455Z"
    },
    "papermill": {
     "duration": 0.060443,
     "end_time": "2021-06-04T13:07:09.698222",
     "exception": false,
     "start_time": "2021-06-04T13:07:09.637779",
     "status": "completed"
    },
    "tags": []
   },
   "outputs": [],
   "source": [
    "numbers = {'one':1, 'two':2, 'three':3}"
   ]
  },
  {
   "cell_type": "markdown",
   "id": "mounted-omaha",
   "metadata": {
    "papermill": {
     "duration": 0.055018,
     "end_time": "2021-06-04T13:07:09.806993",
     "exception": false,
     "start_time": "2021-06-04T13:07:09.751975",
     "status": "completed"
    },
    "tags": []
   },
   "source": [
    "In this case `'one'`, `'two'`, and `'three'` are the **keys**, and 1, 2 and 3 are their corresponding values.\n",
    "\n",
    "Values are accessed via square bracket syntax similar to indexing into lists and strings."
   ]
  },
  {
   "cell_type": "code",
   "execution_count": 29,
   "id": "atomic-debut",
   "metadata": {
    "execution": {
     "iopub.execute_input": "2021-06-04T13:07:09.918844Z",
     "iopub.status.busy": "2021-06-04T13:07:09.917905Z",
     "iopub.status.idle": "2021-06-04T13:07:09.924554Z",
     "shell.execute_reply": "2021-06-04T13:07:09.923901Z"
    },
    "papermill": {
     "duration": 0.06168,
     "end_time": "2021-06-04T13:07:09.924700",
     "exception": false,
     "start_time": "2021-06-04T13:07:09.863020",
     "status": "completed"
    },
    "tags": []
   },
   "outputs": [
    {
     "data": {
      "text/plain": [
       "1"
      ]
     },
     "execution_count": 29,
     "metadata": {},
     "output_type": "execute_result"
    }
   ],
   "source": [
    "numbers['one']"
   ]
  },
  {
   "cell_type": "markdown",
   "id": "looking-particle",
   "metadata": {
    "papermill": {
     "duration": 0.052847,
     "end_time": "2021-06-04T13:07:10.031541",
     "exception": false,
     "start_time": "2021-06-04T13:07:09.978694",
     "status": "completed"
    },
    "tags": []
   },
   "source": [
    "We can use the same syntax to add another key, value pair"
   ]
  },
  {
   "cell_type": "code",
   "execution_count": 30,
   "id": "stylish-paper",
   "metadata": {
    "execution": {
     "iopub.execute_input": "2021-06-04T13:07:10.143317Z",
     "iopub.status.busy": "2021-06-04T13:07:10.142489Z",
     "iopub.status.idle": "2021-06-04T13:07:10.146988Z",
     "shell.execute_reply": "2021-06-04T13:07:10.146354Z"
    },
    "papermill": {
     "duration": 0.062483,
     "end_time": "2021-06-04T13:07:10.147151",
     "exception": false,
     "start_time": "2021-06-04T13:07:10.084668",
     "status": "completed"
    },
    "tags": []
   },
   "outputs": [
    {
     "data": {
      "text/plain": [
       "{'one': 1, 'two': 2, 'three': 3, 'eleven': 11}"
      ]
     },
     "execution_count": 30,
     "metadata": {},
     "output_type": "execute_result"
    }
   ],
   "source": [
    "numbers['eleven'] = 11\n",
    "numbers"
   ]
  },
  {
   "cell_type": "markdown",
   "id": "opening-subcommittee",
   "metadata": {
    "papermill": {
     "duration": 0.052721,
     "end_time": "2021-06-04T13:07:10.253229",
     "exception": false,
     "start_time": "2021-06-04T13:07:10.200508",
     "status": "completed"
    },
    "tags": []
   },
   "source": [
    "Or to change the value associated with an existing key"
   ]
  },
  {
   "cell_type": "code",
   "execution_count": 31,
   "id": "generic-aircraft",
   "metadata": {
    "execution": {
     "iopub.execute_input": "2021-06-04T13:07:10.365484Z",
     "iopub.status.busy": "2021-06-04T13:07:10.364634Z",
     "iopub.status.idle": "2021-06-04T13:07:10.369071Z",
     "shell.execute_reply": "2021-06-04T13:07:10.368450Z"
    },
    "papermill": {
     "duration": 0.062396,
     "end_time": "2021-06-04T13:07:10.369231",
     "exception": false,
     "start_time": "2021-06-04T13:07:10.306835",
     "status": "completed"
    },
    "tags": []
   },
   "outputs": [
    {
     "data": {
      "text/plain": [
       "{'one': 'Pluto', 'two': 2, 'three': 3, 'eleven': 11}"
      ]
     },
     "execution_count": 31,
     "metadata": {},
     "output_type": "execute_result"
    }
   ],
   "source": [
    "numbers['one'] = 'Pluto'\n",
    "numbers"
   ]
  },
  {
   "cell_type": "markdown",
   "id": "diverse-convert",
   "metadata": {
    "papermill": {
     "duration": 0.053229,
     "end_time": "2021-06-04T13:07:10.475784",
     "exception": false,
     "start_time": "2021-06-04T13:07:10.422555",
     "status": "completed"
    },
    "tags": []
   },
   "source": [
    "Python has *dictionary comprehensions* with a syntax similar to the list comprehensions we saw in the previous tutorial."
   ]
  },
  {
   "cell_type": "code",
   "execution_count": 32,
   "id": "experimental-consultancy",
   "metadata": {
    "execution": {
     "iopub.execute_input": "2021-06-04T13:07:10.592600Z",
     "iopub.status.busy": "2021-06-04T13:07:10.591885Z",
     "iopub.status.idle": "2021-06-04T13:07:10.596171Z",
     "shell.execute_reply": "2021-06-04T13:07:10.596650Z"
    },
    "papermill": {
     "duration": 0.065079,
     "end_time": "2021-06-04T13:07:10.596832",
     "exception": false,
     "start_time": "2021-06-04T13:07:10.531753",
     "status": "completed"
    },
    "tags": []
   },
   "outputs": [
    {
     "data": {
      "text/plain": [
       "{'Mercury': 'M',\n",
       " 'Venus': 'V',\n",
       " 'Earth': 'E',\n",
       " 'Mars': 'M',\n",
       " 'Jupiter': 'J',\n",
       " 'Saturn': 'S',\n",
       " 'Uranus': 'U',\n",
       " 'Neptune': 'N'}"
      ]
     },
     "execution_count": 32,
     "metadata": {},
     "output_type": "execute_result"
    }
   ],
   "source": [
    "planets = ['Mercury', 'Venus', 'Earth', 'Mars', 'Jupiter', 'Saturn', 'Uranus', 'Neptune']\n",
    "planet_to_initial = {planet: planet[0] for planet in planets}\n",
    "planet_to_initial"
   ]
  },
  {
   "cell_type": "markdown",
   "id": "special-technology",
   "metadata": {
    "papermill": {
     "duration": 0.053866,
     "end_time": "2021-06-04T13:07:10.704534",
     "exception": false,
     "start_time": "2021-06-04T13:07:10.650668",
     "status": "completed"
    },
    "tags": []
   },
   "source": [
    "The `in` operator tells us whether something is a key in the dictionary"
   ]
  },
  {
   "cell_type": "code",
   "execution_count": 33,
   "id": "musical-guidance",
   "metadata": {
    "execution": {
     "iopub.execute_input": "2021-06-04T13:07:10.816931Z",
     "iopub.status.busy": "2021-06-04T13:07:10.816311Z",
     "iopub.status.idle": "2021-06-04T13:07:10.819528Z",
     "shell.execute_reply": "2021-06-04T13:07:10.820033Z"
    },
    "papermill": {
     "duration": 0.062127,
     "end_time": "2021-06-04T13:07:10.820247",
     "exception": false,
     "start_time": "2021-06-04T13:07:10.758120",
     "status": "completed"
    },
    "tags": []
   },
   "outputs": [
    {
     "data": {
      "text/plain": [
       "True"
      ]
     },
     "execution_count": 33,
     "metadata": {},
     "output_type": "execute_result"
    }
   ],
   "source": [
    "'Saturn' in planet_to_initial"
   ]
  },
  {
   "cell_type": "code",
   "execution_count": 34,
   "id": "military-italic",
   "metadata": {
    "execution": {
     "iopub.execute_input": "2021-06-04T13:07:10.933479Z",
     "iopub.status.busy": "2021-06-04T13:07:10.932885Z",
     "iopub.status.idle": "2021-06-04T13:07:10.938141Z",
     "shell.execute_reply": "2021-06-04T13:07:10.937512Z"
    },
    "papermill": {
     "duration": 0.062926,
     "end_time": "2021-06-04T13:07:10.938290",
     "exception": false,
     "start_time": "2021-06-04T13:07:10.875364",
     "status": "completed"
    },
    "tags": []
   },
   "outputs": [
    {
     "data": {
      "text/plain": [
       "False"
      ]
     },
     "execution_count": 34,
     "metadata": {},
     "output_type": "execute_result"
    }
   ],
   "source": [
    "'Betelgeuse' in planet_to_initial"
   ]
  },
  {
   "cell_type": "markdown",
   "id": "alternative-detective",
   "metadata": {
    "papermill": {
     "duration": 0.055292,
     "end_time": "2021-06-04T13:07:11.049253",
     "exception": false,
     "start_time": "2021-06-04T13:07:10.993961",
     "status": "completed"
    },
    "tags": []
   },
   "source": [
    "A for loop over a dictionary will loop over its keys"
   ]
  },
  {
   "cell_type": "code",
   "execution_count": 35,
   "id": "smaller-wages",
   "metadata": {
    "execution": {
     "iopub.execute_input": "2021-06-04T13:07:11.164759Z",
     "iopub.status.busy": "2021-06-04T13:07:11.164061Z",
     "iopub.status.idle": "2021-06-04T13:07:11.167717Z",
     "shell.execute_reply": "2021-06-04T13:07:11.168216Z"
    },
    "papermill": {
     "duration": 0.064202,
     "end_time": "2021-06-04T13:07:11.168381",
     "exception": false,
     "start_time": "2021-06-04T13:07:11.104179",
     "status": "completed"
    },
    "tags": []
   },
   "outputs": [
    {
     "name": "stdout",
     "output_type": "stream",
     "text": [
      "one = Pluto\n",
      "two = 2\n",
      "three = 3\n",
      "eleven = 11\n"
     ]
    }
   ],
   "source": [
    "for k in numbers:\n",
    "    print(\"{} = {}\".format(k, numbers[k]))"
   ]
  },
  {
   "cell_type": "markdown",
   "id": "norman-syndrome",
   "metadata": {
    "papermill": {
     "duration": 0.054193,
     "end_time": "2021-06-04T13:07:11.277308",
     "exception": false,
     "start_time": "2021-06-04T13:07:11.223115",
     "status": "completed"
    },
    "tags": []
   },
   "source": [
    "We can access a collection of all the keys or all the values with `dict.keys()` and `dict.values()`, respectively."
   ]
  },
  {
   "cell_type": "code",
   "execution_count": 36,
   "id": "separated-coach",
   "metadata": {
    "execution": {
     "iopub.execute_input": "2021-06-04T13:07:11.392038Z",
     "iopub.status.busy": "2021-06-04T13:07:11.391429Z",
     "iopub.status.idle": "2021-06-04T13:07:11.394715Z",
     "shell.execute_reply": "2021-06-04T13:07:11.395280Z"
    },
    "papermill": {
     "duration": 0.063562,
     "end_time": "2021-06-04T13:07:11.395447",
     "exception": false,
     "start_time": "2021-06-04T13:07:11.331885",
     "status": "completed"
    },
    "tags": []
   },
   "outputs": [
    {
     "data": {
      "text/plain": [
       "'E J M M N S U V'"
      ]
     },
     "execution_count": 36,
     "metadata": {},
     "output_type": "execute_result"
    }
   ],
   "source": [
    "# Get all the initials, sort them alphabetically, and put them in a space-separated string.\n",
    "' '.join(sorted(planet_to_initial.values()))"
   ]
  },
  {
   "cell_type": "markdown",
   "id": "gross-cable",
   "metadata": {
    "papermill": {
     "duration": 0.05481,
     "end_time": "2021-06-04T13:07:11.505201",
     "exception": false,
     "start_time": "2021-06-04T13:07:11.450391",
     "status": "completed"
    },
    "tags": []
   },
   "source": [
    "The very useful `dict.items()` method lets us iterate over the keys and values of a dictionary simultaneously. (In Python jargon, an **item** refers to a key, value pair)"
   ]
  },
  {
   "cell_type": "code",
   "execution_count": 37,
   "id": "senior-thumb",
   "metadata": {
    "execution": {
     "iopub.execute_input": "2021-06-04T13:07:11.618945Z",
     "iopub.status.busy": "2021-06-04T13:07:11.618352Z",
     "iopub.status.idle": "2021-06-04T13:07:11.625820Z",
     "shell.execute_reply": "2021-06-04T13:07:11.625297Z"
    },
    "papermill": {
     "duration": 0.06536,
     "end_time": "2021-06-04T13:07:11.625965",
     "exception": false,
     "start_time": "2021-06-04T13:07:11.560605",
     "status": "completed"
    },
    "tags": []
   },
   "outputs": [
    {
     "name": "stdout",
     "output_type": "stream",
     "text": [
      "   Mercury begins with \"M\"\n",
      "     Venus begins with \"V\"\n",
      "     Earth begins with \"E\"\n",
      "      Mars begins with \"M\"\n",
      "   Jupiter begins with \"J\"\n",
      "    Saturn begins with \"S\"\n",
      "    Uranus begins with \"U\"\n",
      "   Neptune begins with \"N\"\n"
     ]
    }
   ],
   "source": [
    "for planet, initial in planet_to_initial.items():\n",
    "    print(\"{} begins with \\\"{}\\\"\".format(planet.rjust(10), initial))"
   ]
  },
  {
   "cell_type": "markdown",
   "id": "loaded-standard",
   "metadata": {
    "papermill": {
     "duration": 0.056648,
     "end_time": "2021-06-04T13:07:11.739712",
     "exception": false,
     "start_time": "2021-06-04T13:07:11.683064",
     "status": "completed"
    },
    "tags": []
   },
   "source": [
    "To read a full inventory of dictionaries' methods, click the \"output\" button below to read the full help page, or check out the [official online documentation](https://docs.python.org/3/library/stdtypes.html#dict)."
   ]
  },
  {
   "cell_type": "code",
   "execution_count": 38,
   "id": "unlike-ballot",
   "metadata": {
    "_kg_hide-output": true,
    "collapsed": true,
    "execution": {
     "iopub.execute_input": "2021-06-04T13:07:11.869587Z",
     "iopub.status.busy": "2021-06-04T13:07:11.868615Z",
     "iopub.status.idle": "2021-06-04T13:07:11.872854Z",
     "shell.execute_reply": "2021-06-04T13:07:11.872142Z"
    },
    "papermill": {
     "duration": 0.075541,
     "end_time": "2021-06-04T13:07:11.873006",
     "exception": false,
     "start_time": "2021-06-04T13:07:11.797465",
     "status": "completed"
    },
    "tags": []
   },
   "outputs": [
    {
     "name": "stdout",
     "output_type": "stream",
     "text": [
      "Help on class dict in module builtins:\n",
      "\n",
      "class dict(object)\n",
      " |  dict() -> new empty dictionary\n",
      " |  dict(mapping) -> new dictionary initialized from a mapping object's\n",
      " |      (key, value) pairs\n",
      " |  dict(iterable) -> new dictionary initialized as if via:\n",
      " |      d = {}\n",
      " |      for k, v in iterable:\n",
      " |          d[k] = v\n",
      " |  dict(**kwargs) -> new dictionary initialized with the name=value pairs\n",
      " |      in the keyword argument list.  For example:  dict(one=1, two=2)\n",
      " |  \n",
      " |  Methods defined here:\n",
      " |  \n",
      " |  __contains__(self, key, /)\n",
      " |      True if the dictionary has the specified key, else False.\n",
      " |  \n",
      " |  __delitem__(self, key, /)\n",
      " |      Delete self[key].\n",
      " |  \n",
      " |  __eq__(self, value, /)\n",
      " |      Return self==value.\n",
      " |  \n",
      " |  __ge__(self, value, /)\n",
      " |      Return self>=value.\n",
      " |  \n",
      " |  __getattribute__(self, name, /)\n",
      " |      Return getattr(self, name).\n",
      " |  \n",
      " |  __getitem__(...)\n",
      " |      x.__getitem__(y) <==> x[y]\n",
      " |  \n",
      " |  __gt__(self, value, /)\n",
      " |      Return self>value.\n",
      " |  \n",
      " |  __init__(self, /, *args, **kwargs)\n",
      " |      Initialize self.  See help(type(self)) for accurate signature.\n",
      " |  \n",
      " |  __iter__(self, /)\n",
      " |      Implement iter(self).\n",
      " |  \n",
      " |  __le__(self, value, /)\n",
      " |      Return self<=value.\n",
      " |  \n",
      " |  __len__(self, /)\n",
      " |      Return len(self).\n",
      " |  \n",
      " |  __lt__(self, value, /)\n",
      " |      Return self<value.\n",
      " |  \n",
      " |  __ne__(self, value, /)\n",
      " |      Return self!=value.\n",
      " |  \n",
      " |  __repr__(self, /)\n",
      " |      Return repr(self).\n",
      " |  \n",
      " |  __setitem__(self, key, value, /)\n",
      " |      Set self[key] to value.\n",
      " |  \n",
      " |  __sizeof__(...)\n",
      " |      D.__sizeof__() -> size of D in memory, in bytes\n",
      " |  \n",
      " |  clear(...)\n",
      " |      D.clear() -> None.  Remove all items from D.\n",
      " |  \n",
      " |  copy(...)\n",
      " |      D.copy() -> a shallow copy of D\n",
      " |  \n",
      " |  get(self, key, default=None, /)\n",
      " |      Return the value for key if key is in the dictionary, else default.\n",
      " |  \n",
      " |  items(...)\n",
      " |      D.items() -> a set-like object providing a view on D's items\n",
      " |  \n",
      " |  keys(...)\n",
      " |      D.keys() -> a set-like object providing a view on D's keys\n",
      " |  \n",
      " |  pop(...)\n",
      " |      D.pop(k[,d]) -> v, remove specified key and return the corresponding value.\n",
      " |      If key is not found, d is returned if given, otherwise KeyError is raised\n",
      " |  \n",
      " |  popitem(...)\n",
      " |      D.popitem() -> (k, v), remove and return some (key, value) pair as a\n",
      " |      2-tuple; but raise KeyError if D is empty.\n",
      " |  \n",
      " |  setdefault(self, key, default=None, /)\n",
      " |      Insert key with a value of default if key is not in the dictionary.\n",
      " |      \n",
      " |      Return the value for key if key is in the dictionary, else default.\n",
      " |  \n",
      " |  update(...)\n",
      " |      D.update([E, ]**F) -> None.  Update D from dict/iterable E and F.\n",
      " |      If E is present and has a .keys() method, then does:  for k in E: D[k] = E[k]\n",
      " |      If E is present and lacks a .keys() method, then does:  for k, v in E: D[k] = v\n",
      " |      In either case, this is followed by: for k in F:  D[k] = F[k]\n",
      " |  \n",
      " |  values(...)\n",
      " |      D.values() -> an object providing a view on D's values\n",
      " |  \n",
      " |  ----------------------------------------------------------------------\n",
      " |  Class methods defined here:\n",
      " |  \n",
      " |  fromkeys(iterable, value=None, /) from builtins.type\n",
      " |      Create a new dictionary with keys from iterable and values set to value.\n",
      " |  \n",
      " |  ----------------------------------------------------------------------\n",
      " |  Static methods defined here:\n",
      " |  \n",
      " |  __new__(*args, **kwargs) from builtins.type\n",
      " |      Create and return a new object.  See help(type) for accurate signature.\n",
      " |  \n",
      " |  ----------------------------------------------------------------------\n",
      " |  Data and other attributes defined here:\n",
      " |  \n",
      " |  __hash__ = None\n",
      "\n"
     ]
    }
   ],
   "source": [
    "help(dict)"
   ]
  },
  {
   "cell_type": "markdown",
   "id": "complimentary-incidence",
   "metadata": {
    "papermill": {
     "duration": 0.059408,
     "end_time": "2021-06-04T13:07:11.990598",
     "exception": false,
     "start_time": "2021-06-04T13:07:11.931190",
     "status": "completed"
    },
    "tags": []
   },
   "source": [
    "# Your Turn\n",
    "\n",
    "You've learned a lot of Python... go **[demonstrate your new skills](https://www.kaggle.com/kernels/fork/1275185)** with some realistic programming applications."
   ]
  },
  {
   "cell_type": "markdown",
   "id": "modified-timer",
   "metadata": {
    "papermill": {
     "duration": 0.058375,
     "end_time": "2021-06-04T13:07:12.106559",
     "exception": false,
     "start_time": "2021-06-04T13:07:12.048184",
     "status": "completed"
    },
    "tags": []
   },
   "source": [
    "---\n",
    "\n",
    "\n",
    "\n",
    "\n",
    "*Have questions or comments? Visit the [Learn Discussion forum](https://www.kaggle.com/learn-forum/161283) to chat with other Learners.*"
   ]
  }
 ],
 "metadata": {
  "anaconda-cloud": {},
  "kernelspec": {
   "display_name": "Python 3",
   "language": "python",
   "name": "python3"
  },
  "language_info": {
   "codemirror_mode": {
    "name": "ipython",
    "version": 3
   },
   "file_extension": ".py",
   "mimetype": "text/x-python",
   "name": "python",
   "nbconvert_exporter": "python",
   "pygments_lexer": "ipython3",
   "version": "3.7.9"
  },
  "learntools_metadata": {
   "lesson_index": 5,
   "type": "tutorial"
  },
  "papermill": {
   "default_parameters": {},
   "duration": 14.84335,
   "end_time": "2021-06-04T13:07:12.772887",
   "environment_variables": {},
   "exception": null,
   "input_path": "__notebook__.ipynb",
   "output_path": "__notebook__.ipynb",
   "parameters": {},
   "start_time": "2021-06-04T13:06:57.929537",
   "version": "2.3.2"
  }
 },
 "nbformat": 4,
 "nbformat_minor": 5
}
