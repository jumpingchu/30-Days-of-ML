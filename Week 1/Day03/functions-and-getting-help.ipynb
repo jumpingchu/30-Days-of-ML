{
 "cells": [
  {
   "cell_type": "markdown",
   "id": "faced-radius",
   "metadata": {
    "papermill": {
     "duration": 0.016689,
     "end_time": "2021-06-04T13:07:01.219919",
     "exception": false,
     "start_time": "2021-06-04T13:07:01.203230",
     "status": "completed"
    },
    "tags": []
   },
   "source": [
    "You've already seen and used functions such as `print` and `abs`. But Python has many more functions, and defining your own functions is a big part of python programming.\n",
    "\n",
    "In this lesson, you will learn more about using and defining functions."
   ]
  },
  {
   "cell_type": "markdown",
   "id": "mysterious-special",
   "metadata": {
    "papermill": {
     "duration": 0.014473,
     "end_time": "2021-06-04T13:07:01.249807",
     "exception": false,
     "start_time": "2021-06-04T13:07:01.235334",
     "status": "completed"
    },
    "tags": []
   },
   "source": [
    "# Getting Help\n",
    "\n",
    "You saw the `abs` function in the previous tutorial, but what if you've forgotten what it does?\n",
    "\n",
    "The `help()` function is possibly the most important Python function you can learn. If you can remember how to use `help()`, you hold the key to understanding most other functions.\n",
    "\n",
    "Here is an example:"
   ]
  },
  {
   "cell_type": "code",
   "execution_count": 1,
   "id": "focused-thursday",
   "metadata": {
    "execution": {
     "iopub.execute_input": "2021-06-04T13:07:01.286608Z",
     "iopub.status.busy": "2021-06-04T13:07:01.285930Z",
     "iopub.status.idle": "2021-06-04T13:07:01.290480Z",
     "shell.execute_reply": "2021-06-04T13:07:01.289814Z"
    },
    "papermill": {
     "duration": 0.02541,
     "end_time": "2021-06-04T13:07:01.290622",
     "exception": false,
     "start_time": "2021-06-04T13:07:01.265212",
     "status": "completed"
    },
    "tags": []
   },
   "outputs": [
    {
     "name": "stdout",
     "output_type": "stream",
     "text": [
      "Help on built-in function round in module builtins:\n",
      "\n",
      "round(number, ndigits=None)\n",
      "    Round a number to a given precision in decimal digits.\n",
      "    \n",
      "    The return value is an integer if ndigits is omitted or None.  Otherwise\n",
      "    the return value has the same type as the number.  ndigits may be negative.\n",
      "\n"
     ]
    }
   ],
   "source": [
    "help(round)"
   ]
  },
  {
   "cell_type": "markdown",
   "id": "computational-netscape",
   "metadata": {
    "papermill": {
     "duration": 0.016872,
     "end_time": "2021-06-04T13:07:01.323836",
     "exception": false,
     "start_time": "2021-06-04T13:07:01.306964",
     "status": "completed"
    },
    "tags": []
   },
   "source": [
    "`help()` displays two things:\n",
    "\n",
    "1. the header of that function `round(number, ndigits=None)`. In this case, this tells us that `round()` takes an argument we can describe as `number`. Additionally, we can optionally give a separate argument which could be described as `ndigits`.\n",
    "2. A brief English description of what the function does. "
   ]
  },
  {
   "cell_type": "markdown",
   "id": "coordinated-oklahoma",
   "metadata": {
    "papermill": {
     "duration": 0.016468,
     "end_time": "2021-06-04T13:07:01.355650",
     "exception": false,
     "start_time": "2021-06-04T13:07:01.339182",
     "status": "completed"
    },
    "tags": []
   },
   "source": [
    "**Common pitfall:** when you're looking up a function, remember to pass in the name of the function itself, and not the result of calling that function. \n",
    "\n",
    "What happens if we invoke help on a *call* to the function `round()`? Unhide the output of the cell below to see."
   ]
  },
  {
   "cell_type": "code",
   "execution_count": 2,
   "id": "leading-kruger",
   "metadata": {
    "_kg_hide-output": true,
    "collapsed": true,
    "execution": {
     "iopub.execute_input": "2021-06-04T13:07:01.389666Z",
     "iopub.status.busy": "2021-06-04T13:07:01.389082Z",
     "iopub.status.idle": "2021-06-04T13:07:01.410655Z",
     "shell.execute_reply": "2021-06-04T13:07:01.411076Z"
    },
    "papermill": {
     "duration": 0.040074,
     "end_time": "2021-06-04T13:07:01.411255",
     "exception": false,
     "start_time": "2021-06-04T13:07:01.371181",
     "status": "completed"
    },
    "tags": []
   },
   "outputs": [
    {
     "name": "stdout",
     "output_type": "stream",
     "text": [
      "Help on int object:\n",
      "\n",
      "class int(object)\n",
      " |  int([x]) -> integer\n",
      " |  int(x, base=10) -> integer\n",
      " |  \n",
      " |  Convert a number or string to an integer, or return 0 if no arguments\n",
      " |  are given.  If x is a number, return x.__int__().  For floating point\n",
      " |  numbers, this truncates towards zero.\n",
      " |  \n",
      " |  If x is not a number or if base is given, then x must be a string,\n",
      " |  bytes, or bytearray instance representing an integer literal in the\n",
      " |  given base.  The literal can be preceded by '+' or '-' and be surrounded\n",
      " |  by whitespace.  The base defaults to 10.  Valid bases are 0 and 2-36.\n",
      " |  Base 0 means to interpret the base from the string as an integer literal.\n",
      " |  >>> int('0b100', base=0)\n",
      " |  4\n",
      " |  \n",
      " |  Methods defined here:\n",
      " |  \n",
      " |  __abs__(self, /)\n",
      " |      abs(self)\n",
      " |  \n",
      " |  __add__(self, value, /)\n",
      " |      Return self+value.\n",
      " |  \n",
      " |  __and__(self, value, /)\n",
      " |      Return self&value.\n",
      " |  \n",
      " |  __bool__(self, /)\n",
      " |      self != 0\n",
      " |  \n",
      " |  __ceil__(...)\n",
      " |      Ceiling of an Integral returns itself.\n",
      " |  \n",
      " |  __divmod__(self, value, /)\n",
      " |      Return divmod(self, value).\n",
      " |  \n",
      " |  __eq__(self, value, /)\n",
      " |      Return self==value.\n",
      " |  \n",
      " |  __float__(self, /)\n",
      " |      float(self)\n",
      " |  \n",
      " |  __floor__(...)\n",
      " |      Flooring an Integral returns itself.\n",
      " |  \n",
      " |  __floordiv__(self, value, /)\n",
      " |      Return self//value.\n",
      " |  \n",
      " |  __format__(self, format_spec, /)\n",
      " |      Default object formatter.\n",
      " |  \n",
      " |  __ge__(self, value, /)\n",
      " |      Return self>=value.\n",
      " |  \n",
      " |  __getattribute__(self, name, /)\n",
      " |      Return getattr(self, name).\n",
      " |  \n",
      " |  __getnewargs__(self, /)\n",
      " |  \n",
      " |  __gt__(self, value, /)\n",
      " |      Return self>value.\n",
      " |  \n",
      " |  __hash__(self, /)\n",
      " |      Return hash(self).\n",
      " |  \n",
      " |  __index__(self, /)\n",
      " |      Return self converted to an integer, if self is suitable for use as an index into a list.\n",
      " |  \n",
      " |  __int__(self, /)\n",
      " |      int(self)\n",
      " |  \n",
      " |  __invert__(self, /)\n",
      " |      ~self\n",
      " |  \n",
      " |  __le__(self, value, /)\n",
      " |      Return self<=value.\n",
      " |  \n",
      " |  __lshift__(self, value, /)\n",
      " |      Return self<<value.\n",
      " |  \n",
      " |  __lt__(self, value, /)\n",
      " |      Return self<value.\n",
      " |  \n",
      " |  __mod__(self, value, /)\n",
      " |      Return self%value.\n",
      " |  \n",
      " |  __mul__(self, value, /)\n",
      " |      Return self*value.\n",
      " |  \n",
      " |  __ne__(self, value, /)\n",
      " |      Return self!=value.\n",
      " |  \n",
      " |  __neg__(self, /)\n",
      " |      -self\n",
      " |  \n",
      " |  __or__(self, value, /)\n",
      " |      Return self|value.\n",
      " |  \n",
      " |  __pos__(self, /)\n",
      " |      +self\n",
      " |  \n",
      " |  __pow__(self, value, mod=None, /)\n",
      " |      Return pow(self, value, mod).\n",
      " |  \n",
      " |  __radd__(self, value, /)\n",
      " |      Return value+self.\n",
      " |  \n",
      " |  __rand__(self, value, /)\n",
      " |      Return value&self.\n",
      " |  \n",
      " |  __rdivmod__(self, value, /)\n",
      " |      Return divmod(value, self).\n",
      " |  \n",
      " |  __repr__(self, /)\n",
      " |      Return repr(self).\n",
      " |  \n",
      " |  __rfloordiv__(self, value, /)\n",
      " |      Return value//self.\n",
      " |  \n",
      " |  __rlshift__(self, value, /)\n",
      " |      Return value<<self.\n",
      " |  \n",
      " |  __rmod__(self, value, /)\n",
      " |      Return value%self.\n",
      " |  \n",
      " |  __rmul__(self, value, /)\n",
      " |      Return value*self.\n",
      " |  \n",
      " |  __ror__(self, value, /)\n",
      " |      Return value|self.\n",
      " |  \n",
      " |  __round__(...)\n",
      " |      Rounding an Integral returns itself.\n",
      " |      Rounding with an ndigits argument also returns an integer.\n",
      " |  \n",
      " |  __rpow__(self, value, mod=None, /)\n",
      " |      Return pow(value, self, mod).\n",
      " |  \n",
      " |  __rrshift__(self, value, /)\n",
      " |      Return value>>self.\n",
      " |  \n",
      " |  __rshift__(self, value, /)\n",
      " |      Return self>>value.\n",
      " |  \n",
      " |  __rsub__(self, value, /)\n",
      " |      Return value-self.\n",
      " |  \n",
      " |  __rtruediv__(self, value, /)\n",
      " |      Return value/self.\n",
      " |  \n",
      " |  __rxor__(self, value, /)\n",
      " |      Return value^self.\n",
      " |  \n",
      " |  __sizeof__(self, /)\n",
      " |      Returns size in memory, in bytes.\n",
      " |  \n",
      " |  __str__(self, /)\n",
      " |      Return str(self).\n",
      " |  \n",
      " |  __sub__(self, value, /)\n",
      " |      Return self-value.\n",
      " |  \n",
      " |  __truediv__(self, value, /)\n",
      " |      Return self/value.\n",
      " |  \n",
      " |  __trunc__(...)\n",
      " |      Truncating an Integral returns itself.\n",
      " |  \n",
      " |  __xor__(self, value, /)\n",
      " |      Return self^value.\n",
      " |  \n",
      " |  bit_length(self, /)\n",
      " |      Number of bits necessary to represent self in binary.\n",
      " |      \n",
      " |      >>> bin(37)\n",
      " |      '0b100101'\n",
      " |      >>> (37).bit_length()\n",
      " |      6\n",
      " |  \n",
      " |  conjugate(...)\n",
      " |      Returns self, the complex conjugate of any int.\n",
      " |  \n",
      " |  to_bytes(self, /, length, byteorder, *, signed=False)\n",
      " |      Return an array of bytes representing an integer.\n",
      " |      \n",
      " |      length\n",
      " |        Length of bytes object to use.  An OverflowError is raised if the\n",
      " |        integer is not representable with the given number of bytes.\n",
      " |      byteorder\n",
      " |        The byte order used to represent the integer.  If byteorder is 'big',\n",
      " |        the most significant byte is at the beginning of the byte array.  If\n",
      " |        byteorder is 'little', the most significant byte is at the end of the\n",
      " |        byte array.  To request the native byte order of the host system, use\n",
      " |        `sys.byteorder' as the byte order value.\n",
      " |      signed\n",
      " |        Determines whether two's complement is used to represent the integer.\n",
      " |        If signed is False and a negative integer is given, an OverflowError\n",
      " |        is raised.\n",
      " |  \n",
      " |  ----------------------------------------------------------------------\n",
      " |  Class methods defined here:\n",
      " |  \n",
      " |  from_bytes(bytes, byteorder, *, signed=False) from builtins.type\n",
      " |      Return the integer represented by the given array of bytes.\n",
      " |      \n",
      " |      bytes\n",
      " |        Holds the array of bytes to convert.  The argument must either\n",
      " |        support the buffer protocol or be an iterable object producing bytes.\n",
      " |        Bytes and bytearray are examples of built-in objects that support the\n",
      " |        buffer protocol.\n",
      " |      byteorder\n",
      " |        The byte order used to represent the integer.  If byteorder is 'big',\n",
      " |        the most significant byte is at the beginning of the byte array.  If\n",
      " |        byteorder is 'little', the most significant byte is at the end of the\n",
      " |        byte array.  To request the native byte order of the host system, use\n",
      " |        `sys.byteorder' as the byte order value.\n",
      " |      signed\n",
      " |        Indicates whether two's complement is used to represent the integer.\n",
      " |  \n",
      " |  ----------------------------------------------------------------------\n",
      " |  Static methods defined here:\n",
      " |  \n",
      " |  __new__(*args, **kwargs) from builtins.type\n",
      " |      Create and return a new object.  See help(type) for accurate signature.\n",
      " |  \n",
      " |  ----------------------------------------------------------------------\n",
      " |  Data descriptors defined here:\n",
      " |  \n",
      " |  denominator\n",
      " |      the denominator of a rational number in lowest terms\n",
      " |  \n",
      " |  imag\n",
      " |      the imaginary part of a complex number\n",
      " |  \n",
      " |  numerator\n",
      " |      the numerator of a rational number in lowest terms\n",
      " |  \n",
      " |  real\n",
      " |      the real part of a complex number\n",
      "\n"
     ]
    }
   ],
   "source": [
    "help(round(-2.01))"
   ]
  },
  {
   "cell_type": "markdown",
   "id": "chicken-portal",
   "metadata": {
    "papermill": {
     "duration": 0.016305,
     "end_time": "2021-06-04T13:07:01.443866",
     "exception": false,
     "start_time": "2021-06-04T13:07:01.427561",
     "status": "completed"
    },
    "tags": []
   },
   "source": [
    "Python evaluates an expression like this from the inside out. First it calculates the value of `round(-2.01)`, then it provides help on the output of that expression.\n",
    "\n",
    "<small>(And it turns out to have a lot to say about integers! After we talk later about objects, methods, and attributes in Python, the help output above will make more sense.)</small>\n",
    "\n",
    "`round` is a very simple function with a short docstring. `help` shines even more when dealing with more complex, configurable functions like `print`. Don't worry if the following output looks inscrutable... for now, just see if you can pick anything new out from this help."
   ]
  },
  {
   "cell_type": "code",
   "execution_count": 3,
   "id": "characteristic-capture",
   "metadata": {
    "collapsed": true,
    "execution": {
     "iopub.execute_input": "2021-06-04T13:07:01.482910Z",
     "iopub.status.busy": "2021-06-04T13:07:01.482294Z",
     "iopub.status.idle": "2021-06-04T13:07:01.488987Z",
     "shell.execute_reply": "2021-06-04T13:07:01.488433Z"
    },
    "papermill": {
     "duration": 0.028274,
     "end_time": "2021-06-04T13:07:01.489148",
     "exception": false,
     "start_time": "2021-06-04T13:07:01.460874",
     "status": "completed"
    },
    "tags": []
   },
   "outputs": [
    {
     "name": "stdout",
     "output_type": "stream",
     "text": [
      "Help on built-in function print in module builtins:\n",
      "\n",
      "print(...)\n",
      "    print(value, ..., sep=' ', end='\\n', file=sys.stdout, flush=False)\n",
      "    \n",
      "    Prints the values to a stream, or to sys.stdout by default.\n",
      "    Optional keyword arguments:\n",
      "    file:  a file-like object (stream); defaults to the current sys.stdout.\n",
      "    sep:   string inserted between values, default a space.\n",
      "    end:   string appended after the last value, default a newline.\n",
      "    flush: whether to forcibly flush the stream.\n",
      "\n"
     ]
    }
   ],
   "source": [
    "help(print)"
   ]
  },
  {
   "cell_type": "markdown",
   "id": "later-description",
   "metadata": {
    "papermill": {
     "duration": 0.016796,
     "end_time": "2021-06-04T13:07:01.523658",
     "exception": false,
     "start_time": "2021-06-04T13:07:01.506862",
     "status": "completed"
    },
    "tags": []
   },
   "source": [
    "If you were looking for it, you might learn that print can take an argument called `sep`, and that this describes what we put between all the other arguments when we print them."
   ]
  },
  {
   "cell_type": "markdown",
   "id": "wanted-diana",
   "metadata": {
    "papermill": {
     "duration": 0.016637,
     "end_time": "2021-06-04T13:07:01.557705",
     "exception": false,
     "start_time": "2021-06-04T13:07:01.541068",
     "status": "completed"
    },
    "tags": []
   },
   "source": [
    "## Defining functions\n",
    "\n",
    "Builtin functions are great, but we can only get so far with them before we need to start defining our own functions. Below is a simple example."
   ]
  },
  {
   "cell_type": "code",
   "execution_count": 4,
   "id": "worthy-living",
   "metadata": {
    "collapsed": true,
    "execution": {
     "iopub.execute_input": "2021-06-04T13:07:01.593817Z",
     "iopub.status.busy": "2021-06-04T13:07:01.593252Z",
     "iopub.status.idle": "2021-06-04T13:07:01.597251Z",
     "shell.execute_reply": "2021-06-04T13:07:01.597682Z"
    },
    "papermill": {
     "duration": 0.02383,
     "end_time": "2021-06-04T13:07:01.597838",
     "exception": false,
     "start_time": "2021-06-04T13:07:01.574008",
     "status": "completed"
    },
    "tags": []
   },
   "outputs": [],
   "source": [
    "def least_difference(a, b, c):\n",
    "    diff1 = abs(a - b)\n",
    "    diff2 = abs(b - c)\n",
    "    diff3 = abs(a - c)\n",
    "    return min(diff1, diff2, diff3)"
   ]
  },
  {
   "cell_type": "markdown",
   "id": "introductory-collectible",
   "metadata": {
    "papermill": {
     "duration": 0.016019,
     "end_time": "2021-06-04T13:07:01.630209",
     "exception": false,
     "start_time": "2021-06-04T13:07:01.614190",
     "status": "completed"
    },
    "tags": []
   },
   "source": [
    "This creates a function called `least_difference`, which takes three arguments, `a`, `b`, and `c`.\n",
    "\n",
    "Functions start with a header introduced by the `def` keyword. The indented block of code following the `:` is run when the function is called.\n",
    "\n",
    "`return` is another keyword uniquely associated with functions. When Python encounters a `return` statement, it exits the function immediately, and passes the value on the right hand side to the calling context.\n",
    "\n",
    "Is it clear what `least_difference()` does from the source code? If we're not sure, we can always try it out on a few examples:"
   ]
  },
  {
   "cell_type": "code",
   "execution_count": 5,
   "id": "graduate-market",
   "metadata": {
    "collapsed": true,
    "execution": {
     "iopub.execute_input": "2021-06-04T13:07:01.665624Z",
     "iopub.status.busy": "2021-06-04T13:07:01.665044Z",
     "iopub.status.idle": "2021-06-04T13:07:01.670831Z",
     "shell.execute_reply": "2021-06-04T13:07:01.671282Z"
    },
    "papermill": {
     "duration": 0.024717,
     "end_time": "2021-06-04T13:07:01.671451",
     "exception": false,
     "start_time": "2021-06-04T13:07:01.646734",
     "status": "completed"
    },
    "tags": []
   },
   "outputs": [
    {
     "name": "stdout",
     "output_type": "stream",
     "text": [
      "9 0 1\n"
     ]
    }
   ],
   "source": [
    "print(\n",
    "    least_difference(1, 10, 100),\n",
    "    least_difference(1, 10, 10),\n",
    "    least_difference(5, 6, 7), # Python allows trailing commas in argument lists. How nice is that?\n",
    ")"
   ]
  },
  {
   "cell_type": "markdown",
   "id": "faced-methodology",
   "metadata": {
    "papermill": {
     "duration": 0.017819,
     "end_time": "2021-06-04T13:07:01.706845",
     "exception": false,
     "start_time": "2021-06-04T13:07:01.689026",
     "status": "completed"
    },
    "tags": []
   },
   "source": [
    "Or maybe the `help()` function can tell us something about it."
   ]
  },
  {
   "cell_type": "code",
   "execution_count": 6,
   "id": "collaborative-newton",
   "metadata": {
    "collapsed": true,
    "execution": {
     "iopub.execute_input": "2021-06-04T13:07:01.745025Z",
     "iopub.status.busy": "2021-06-04T13:07:01.744433Z",
     "iopub.status.idle": "2021-06-04T13:07:01.749338Z",
     "shell.execute_reply": "2021-06-04T13:07:01.749796Z"
    },
    "papermill": {
     "duration": 0.026026,
     "end_time": "2021-06-04T13:07:01.749975",
     "exception": false,
     "start_time": "2021-06-04T13:07:01.723949",
     "status": "completed"
    },
    "tags": []
   },
   "outputs": [
    {
     "name": "stdout",
     "output_type": "stream",
     "text": [
      "Help on function least_difference in module __main__:\n",
      "\n",
      "least_difference(a, b, c)\n",
      "\n"
     ]
    }
   ],
   "source": [
    "help(least_difference)"
   ]
  },
  {
   "cell_type": "markdown",
   "id": "silver-revolution",
   "metadata": {
    "papermill": {
     "duration": 0.017219,
     "end_time": "2021-06-04T13:07:01.785072",
     "exception": false,
     "start_time": "2021-06-04T13:07:01.767853",
     "status": "completed"
    },
    "tags": []
   },
   "source": [
    "Python isn't smart enough to read my code and turn it into a nice English description. However, when I write a function, I can provide a description in what's called the **docstring**.\n",
    "\n",
    "### Docstrings"
   ]
  },
  {
   "cell_type": "code",
   "execution_count": 7,
   "id": "political-mouse",
   "metadata": {
    "collapsed": true,
    "execution": {
     "iopub.execute_input": "2021-06-04T13:07:01.823324Z",
     "iopub.status.busy": "2021-06-04T13:07:01.822741Z",
     "iopub.status.idle": "2021-06-04T13:07:01.827188Z",
     "shell.execute_reply": "2021-06-04T13:07:01.827628Z"
    },
    "papermill": {
     "duration": 0.024193,
     "end_time": "2021-06-04T13:07:01.827786",
     "exception": false,
     "start_time": "2021-06-04T13:07:01.803593",
     "status": "completed"
    },
    "tags": []
   },
   "outputs": [],
   "source": [
    "def least_difference(a, b, c):\n",
    "    \"\"\"Return the smallest difference between any two numbers\n",
    "    among a, b and c.\n",
    "    \n",
    "    >>> least_difference(1, 5, -5)\n",
    "    4\n",
    "    \"\"\"\n",
    "    diff1 = abs(a - b)\n",
    "    diff2 = abs(b - c)\n",
    "    diff3 = abs(a - c)\n",
    "    return min(diff1, diff2, diff3)"
   ]
  },
  {
   "cell_type": "markdown",
   "id": "flying-september",
   "metadata": {
    "papermill": {
     "duration": 0.0171,
     "end_time": "2021-06-04T13:07:01.862487",
     "exception": false,
     "start_time": "2021-06-04T13:07:01.845387",
     "status": "completed"
    },
    "tags": []
   },
   "source": [
    "The docstring is a triple-quoted string (which may span multiple lines) that comes immediately after the header of a function. When we call `help()` on a function, it shows the docstring."
   ]
  },
  {
   "cell_type": "code",
   "execution_count": 8,
   "id": "studied-college",
   "metadata": {
    "collapsed": true,
    "execution": {
     "iopub.execute_input": "2021-06-04T13:07:01.901236Z",
     "iopub.status.busy": "2021-06-04T13:07:01.900608Z",
     "iopub.status.idle": "2021-06-04T13:07:01.906769Z",
     "shell.execute_reply": "2021-06-04T13:07:01.906256Z"
    },
    "papermill": {
     "duration": 0.026344,
     "end_time": "2021-06-04T13:07:01.906900",
     "exception": false,
     "start_time": "2021-06-04T13:07:01.880556",
     "status": "completed"
    },
    "tags": []
   },
   "outputs": [
    {
     "name": "stdout",
     "output_type": "stream",
     "text": [
      "Help on function least_difference in module __main__:\n",
      "\n",
      "least_difference(a, b, c)\n",
      "    Return the smallest difference between any two numbers\n",
      "    among a, b and c.\n",
      "    \n",
      "    >>> least_difference(1, 5, -5)\n",
      "    4\n",
      "\n"
     ]
    }
   ],
   "source": [
    "help(least_difference)"
   ]
  },
  {
   "cell_type": "markdown",
   "id": "ambient-tolerance",
   "metadata": {
    "papermill": {
     "duration": 0.018388,
     "end_time": "2021-06-04T13:07:01.943317",
     "exception": false,
     "start_time": "2021-06-04T13:07:01.924929",
     "status": "completed"
    },
    "tags": []
   },
   "source": [
    "> **Aside:**\n",
    "> The last two lines of the docstring are an example function call and result. (The `>>>` is a reference to the command prompt used in Python interactive shells.) Python doesn't run the example call - it's just there for the benefit of the reader. The convention of including 1 or more example calls in a function's docstring is far from universally observed, but it can be very effective at helping someone understand your function. For a real-world example, see [this docstring for the numpy function `np.eye`](https://github.com/numpy/numpy/blob/v1.14.2/numpy/lib/twodim_base.py#L140-L194)."
   ]
  },
  {
   "cell_type": "markdown",
   "id": "indirect-transsexual",
   "metadata": {
    "papermill": {
     "duration": 0.016899,
     "end_time": "2021-06-04T13:07:01.977510",
     "exception": false,
     "start_time": "2021-06-04T13:07:01.960611",
     "status": "completed"
    },
    "tags": []
   },
   "source": [
    "Good programmers use docstrings unless they expect to throw away the code soon after it's used (which is rare).  So, you should start writing docstrings, too!"
   ]
  },
  {
   "cell_type": "markdown",
   "id": "comprehensive-triangle",
   "metadata": {
    "papermill": {
     "duration": 0.017628,
     "end_time": "2021-06-04T13:07:02.012295",
     "exception": false,
     "start_time": "2021-06-04T13:07:01.994667",
     "status": "completed"
    },
    "tags": []
   },
   "source": [
    "## Functions that don't return\n",
    "\n",
    "What would happen if we didn't include the `return` keyword in our function?"
   ]
  },
  {
   "cell_type": "code",
   "execution_count": 9,
   "id": "seven-sullivan",
   "metadata": {
    "collapsed": true,
    "execution": {
     "iopub.execute_input": "2021-06-04T13:07:02.050113Z",
     "iopub.status.busy": "2021-06-04T13:07:02.049557Z",
     "iopub.status.idle": "2021-06-04T13:07:02.057429Z",
     "shell.execute_reply": "2021-06-04T13:07:02.056775Z"
    },
    "papermill": {
     "duration": 0.028061,
     "end_time": "2021-06-04T13:07:02.057580",
     "exception": false,
     "start_time": "2021-06-04T13:07:02.029519",
     "status": "completed"
    },
    "tags": []
   },
   "outputs": [
    {
     "name": "stdout",
     "output_type": "stream",
     "text": [
      "None None None\n"
     ]
    }
   ],
   "source": [
    "def least_difference(a, b, c):\n",
    "    \"\"\"Return the smallest difference between any two numbers\n",
    "    among a, b and c.\n",
    "    \"\"\"\n",
    "    diff1 = abs(a - b)\n",
    "    diff2 = abs(b - c)\n",
    "    diff3 = abs(a - c)\n",
    "    min(diff1, diff2, diff3)\n",
    "    \n",
    "print(\n",
    "    least_difference(1, 10, 100),\n",
    "    least_difference(1, 10, 10),\n",
    "    least_difference(5, 6, 7),\n",
    ")"
   ]
  },
  {
   "cell_type": "markdown",
   "id": "regulated-functionality",
   "metadata": {
    "papermill": {
     "duration": 0.018074,
     "end_time": "2021-06-04T13:07:02.094549",
     "exception": false,
     "start_time": "2021-06-04T13:07:02.076475",
     "status": "completed"
    },
    "tags": []
   },
   "source": [
    "Python allows us to define such functions. The result of calling them is the special value `None`. (This is similar to the concept of \"null\" in other languages.)\n",
    "\n",
    "Without a `return` statement, `least_difference` is completely pointless, but a function with side effects may do something useful without returning anything. We've already seen two examples of this: `print()` and `help()` don't return anything. We only call them for their side effects (putting some text on the screen). Other examples of useful side effects include writing to a file, or modifying an input."
   ]
  },
  {
   "cell_type": "code",
   "execution_count": 10,
   "id": "adjustable-scotland",
   "metadata": {
    "collapsed": true,
    "execution": {
     "iopub.execute_input": "2021-06-04T13:07:02.138061Z",
     "iopub.status.busy": "2021-06-04T13:07:02.137459Z",
     "iopub.status.idle": "2021-06-04T13:07:02.139967Z",
     "shell.execute_reply": "2021-06-04T13:07:02.140443Z"
    },
    "papermill": {
     "duration": 0.026436,
     "end_time": "2021-06-04T13:07:02.140642",
     "exception": false,
     "start_time": "2021-06-04T13:07:02.114206",
     "status": "completed"
    },
    "tags": []
   },
   "outputs": [
    {
     "name": "stdout",
     "output_type": "stream",
     "text": [
      "\n",
      "None\n"
     ]
    }
   ],
   "source": [
    "mystery = print()\n",
    "print(mystery)"
   ]
  },
  {
   "cell_type": "markdown",
   "id": "faced-swimming",
   "metadata": {
    "papermill": {
     "duration": 0.017953,
     "end_time": "2021-06-04T13:07:02.177308",
     "exception": false,
     "start_time": "2021-06-04T13:07:02.159355",
     "status": "completed"
    },
    "tags": []
   },
   "source": [
    "## Default arguments\n",
    "\n",
    "When we called `help(print)`, we saw that the `print` function has several optional arguments. For example, we can specify a value for `sep` to put some special string in between our printed arguments:"
   ]
  },
  {
   "cell_type": "code",
   "execution_count": 11,
   "id": "continued-nelson",
   "metadata": {
    "collapsed": true,
    "execution": {
     "iopub.execute_input": "2021-06-04T13:07:02.219583Z",
     "iopub.status.busy": "2021-06-04T13:07:02.218953Z",
     "iopub.status.idle": "2021-06-04T13:07:02.223961Z",
     "shell.execute_reply": "2021-06-04T13:07:02.224630Z"
    },
    "papermill": {
     "duration": 0.028529,
     "end_time": "2021-06-04T13:07:02.224831",
     "exception": false,
     "start_time": "2021-06-04T13:07:02.196302",
     "status": "completed"
    },
    "tags": []
   },
   "outputs": [
    {
     "name": "stdout",
     "output_type": "stream",
     "text": [
      "1 < 2 < 3\n"
     ]
    }
   ],
   "source": [
    "print(1, 2, 3, sep=' < ')"
   ]
  },
  {
   "cell_type": "markdown",
   "id": "integral-freedom",
   "metadata": {
    "papermill": {
     "duration": 0.01908,
     "end_time": "2021-06-04T13:07:02.261948",
     "exception": false,
     "start_time": "2021-06-04T13:07:02.242868",
     "status": "completed"
    },
    "tags": []
   },
   "source": [
    "But if we don't specify a value, `sep` is treated as having a default value of `' '` (a single space)."
   ]
  },
  {
   "cell_type": "code",
   "execution_count": 12,
   "id": "continent-cabin",
   "metadata": {
    "collapsed": true,
    "execution": {
     "iopub.execute_input": "2021-06-04T13:07:02.302259Z",
     "iopub.status.busy": "2021-06-04T13:07:02.301713Z",
     "iopub.status.idle": "2021-06-04T13:07:02.306819Z",
     "shell.execute_reply": "2021-06-04T13:07:02.307301Z"
    },
    "papermill": {
     "duration": 0.026365,
     "end_time": "2021-06-04T13:07:02.307474",
     "exception": false,
     "start_time": "2021-06-04T13:07:02.281109",
     "status": "completed"
    },
    "tags": []
   },
   "outputs": [
    {
     "name": "stdout",
     "output_type": "stream",
     "text": [
      "1 2 3\n"
     ]
    }
   ],
   "source": [
    "print(1, 2, 3)"
   ]
  },
  {
   "cell_type": "markdown",
   "id": "offshore-football",
   "metadata": {
    "papermill": {
     "duration": 0.018414,
     "end_time": "2021-06-04T13:07:02.344425",
     "exception": false,
     "start_time": "2021-06-04T13:07:02.326011",
     "status": "completed"
    },
    "tags": []
   },
   "source": [
    "Adding optional arguments with default values to the functions we define turns out to be pretty easy:"
   ]
  },
  {
   "cell_type": "code",
   "execution_count": 13,
   "id": "absent-parent",
   "metadata": {
    "collapsed": true,
    "execution": {
     "iopub.execute_input": "2021-06-04T13:07:02.385777Z",
     "iopub.status.busy": "2021-06-04T13:07:02.385243Z",
     "iopub.status.idle": "2021-06-04T13:07:02.390897Z",
     "shell.execute_reply": "2021-06-04T13:07:02.391305Z"
    },
    "papermill": {
     "duration": 0.027325,
     "end_time": "2021-06-04T13:07:02.391468",
     "exception": false,
     "start_time": "2021-06-04T13:07:02.364143",
     "status": "completed"
    },
    "tags": []
   },
   "outputs": [
    {
     "name": "stdout",
     "output_type": "stream",
     "text": [
      "Hello, Colin\n",
      "Hello, Kaggle\n",
      "Hello, world\n"
     ]
    }
   ],
   "source": [
    "def greet(who=\"Colin\"):\n",
    "    print(\"Hello,\", who)\n",
    "    \n",
    "greet()\n",
    "greet(who=\"Kaggle\")\n",
    "# (In this case, we don't need to specify the name of the argument, because it's unambiguous.)\n",
    "greet(\"world\")"
   ]
  },
  {
   "cell_type": "markdown",
   "id": "continuing-implementation",
   "metadata": {
    "papermill": {
     "duration": 0.019214,
     "end_time": "2021-06-04T13:07:02.429919",
     "exception": false,
     "start_time": "2021-06-04T13:07:02.410705",
     "status": "completed"
    },
    "tags": []
   },
   "source": [
    "## Functions Applied to Functions\n",
    "\n",
    "Here's something that's powerful, though it can feel very abstract at first.  You can supply functions as arguments to other functions.  Some example may make this clearer:"
   ]
  },
  {
   "cell_type": "code",
   "execution_count": 14,
   "id": "metallic-reference",
   "metadata": {
    "collapsed": true,
    "execution": {
     "iopub.execute_input": "2021-06-04T13:07:02.472090Z",
     "iopub.status.busy": "2021-06-04T13:07:02.471312Z",
     "iopub.status.idle": "2021-06-04T13:07:02.478770Z",
     "shell.execute_reply": "2021-06-04T13:07:02.478140Z"
    },
    "papermill": {
     "duration": 0.029294,
     "end_time": "2021-06-04T13:07:02.478915",
     "exception": false,
     "start_time": "2021-06-04T13:07:02.449621",
     "status": "completed"
    },
    "tags": []
   },
   "outputs": [
    {
     "name": "stdout",
     "output_type": "stream",
     "text": [
      "5\n",
      "25\n"
     ]
    }
   ],
   "source": [
    "def mult_by_five(x):\n",
    "    return 5 * x\n",
    "\n",
    "def call(fn, arg):\n",
    "    \"\"\"Call fn on arg\"\"\"\n",
    "    return fn(arg)\n",
    "\n",
    "def squared_call(fn, arg):\n",
    "    \"\"\"Call fn on the result of calling fn on arg\"\"\"\n",
    "    return fn(fn(arg))\n",
    "\n",
    "print(\n",
    "    call(mult_by_five, 1),\n",
    "    squared_call(mult_by_five, 1), \n",
    "    sep='\\n', # '\\n' is the newline character - it starts a new line\n",
    ")"
   ]
  },
  {
   "cell_type": "markdown",
   "id": "everyday-purse",
   "metadata": {
    "papermill": {
     "duration": 0.01971,
     "end_time": "2021-06-04T13:07:02.518487",
     "exception": false,
     "start_time": "2021-06-04T13:07:02.498777",
     "status": "completed"
    },
    "tags": []
   },
   "source": [
    "Functions that operate on other functions are called \"higher-order functions.\" You probably won't write your own for a little while. But there are higher-order functions built into Python that you might find useful to call. \n",
    "\n",
    "Here's an interesting example using the `max` function.\n",
    "\n",
    "By default, `max` returns the largest of its arguments. But if we pass in a function using the optional `key` argument, it returns the argument `x` that maximizes `key(x)` (aka the 'argmax')."
   ]
  },
  {
   "cell_type": "code",
   "execution_count": 15,
   "id": "excited-transsexual",
   "metadata": {
    "collapsed": true,
    "execution": {
     "iopub.execute_input": "2021-06-04T13:07:02.564347Z",
     "iopub.status.busy": "2021-06-04T13:07:02.563289Z",
     "iopub.status.idle": "2021-06-04T13:07:02.567044Z",
     "shell.execute_reply": "2021-06-04T13:07:02.566486Z"
    },
    "papermill": {
     "duration": 0.028025,
     "end_time": "2021-06-04T13:07:02.567202",
     "exception": false,
     "start_time": "2021-06-04T13:07:02.539177",
     "status": "completed"
    },
    "tags": []
   },
   "outputs": [
    {
     "name": "stdout",
     "output_type": "stream",
     "text": [
      "Which number is biggest?\n",
      "100\n",
      "Which number is the biggest modulo 5?\n",
      "14\n"
     ]
    }
   ],
   "source": [
    "def mod_5(x):\n",
    "    \"\"\"Return the remainder of x after dividing by 5\"\"\"\n",
    "    return x % 5\n",
    "\n",
    "print(\n",
    "    'Which number is biggest?',\n",
    "    max(100, 51, 14),\n",
    "    'Which number is the biggest modulo 5?',\n",
    "    max(100, 51, 14, key=mod_5),\n",
    "    sep='\\n',\n",
    ")"
   ]
  },
  {
   "cell_type": "markdown",
   "id": "limiting-numbers",
   "metadata": {
    "papermill": {
     "duration": 0.020027,
     "end_time": "2021-06-04T13:07:02.606843",
     "exception": false,
     "start_time": "2021-06-04T13:07:02.586816",
     "status": "completed"
    },
    "tags": []
   },
   "source": [
    "# Your Turn\n",
    "\n",
    "Functions open up a whole new world in Python programming. **[Try using them yourself](https://www.kaggle.com/kernels/fork/1275158)**."
   ]
  },
  {
   "cell_type": "markdown",
   "id": "final-action",
   "metadata": {
    "papermill": {
     "duration": 0.019057,
     "end_time": "2021-06-04T13:07:02.645340",
     "exception": false,
     "start_time": "2021-06-04T13:07:02.626283",
     "status": "completed"
    },
    "tags": []
   },
   "source": [
    "---\n",
    "\n",
    "\n",
    "\n",
    "\n",
    "*Have questions or comments? Visit the [Learn Discussion forum](https://www.kaggle.com/learn-forum/161283) to chat with other Learners.*"
   ]
  }
 ],
 "metadata": {
  "kernelspec": {
   "display_name": "Python 3",
   "language": "python",
   "name": "python3"
  },
  "language_info": {
   "codemirror_mode": {
    "name": "ipython",
    "version": 3
   },
   "file_extension": ".py",
   "mimetype": "text/x-python",
   "name": "python",
   "nbconvert_exporter": "python",
   "pygments_lexer": "ipython3",
   "version": "3.7.9"
  },
  "learntools_metadata": {
   "lesson_index": 1,
   "type": "tutorial"
  },
  "papermill": {
   "default_parameters": {},
   "duration": 7.842213,
   "end_time": "2021-06-04T13:07:03.273546",
   "environment_variables": {},
   "exception": null,
   "input_path": "__notebook__.ipynb",
   "output_path": "__notebook__.ipynb",
   "parameters": {},
   "start_time": "2021-06-04T13:06:55.431333",
   "version": "2.3.2"
  }
 },
 "nbformat": 4,
 "nbformat_minor": 5
}
