{
 "cells": [
  {
   "cell_type": "markdown",
   "id": "executive-replica",
   "metadata": {
    "papermill": {
     "duration": 0.003659,
     "end_time": "2021-06-03T16:36:10.400955",
     "exception": false,
     "start_time": "2021-06-03T16:36:10.397296",
     "status": "completed"
    },
    "tags": []
   },
   "source": [
    "### Welcome to [Kaggle Learn](https://www.kaggle.com/learn/overview)'s _Intermediate Machine Learning_ micro-course!\n",
    "\n",
    "If you have some background in machine learning and you'd like to learn how to quickly improve the quality of your models, you're in the right place!  In this micro-course, you will accelerate your machine learning expertise by learning how to:\n",
    "- tackle data types often found in real-world datasets (**missing values**, **categorical variables**),\n",
    "- design **pipelines** to improve the quality of your machine learning code,\n",
    "- use advanced techniques for model validation (**cross-validation**),\n",
    "- build state-of-the-art models that are widely used to win Kaggle competitions (**XGBoost**), and\n",
    "- avoid common and important data science mistakes (**leakage**).\n",
    "\n",
    "Along the way, you'll cement your knowledge by completing a hands-on exercise with real-world data for each new topic.  The hands-on exercises use data from the [Housing Prices Competition for Kaggle Learn Users](https://www.kaggle.com/c/home-data-for-ml-course), where you'll use 79 different explanatory variables (such as the type of roof, number of bedrooms, and number of bathrooms) to predict home prices.  You'll measure your progress by submitting predictions to this competition and watching your position rise on [the leaderboard](https://www.kaggle.com/c/home-data-for-ml-course/leaderboard)!\n",
    "\n",
    "![tut1_competition](https://i.imgur.com/6hNMveQ.png)\n",
    "\n",
    "# Prerequisites\n",
    "\n",
    "You're ready for this micro-course if you've built a machine learning model before, and you're familiar with topics such as [model validation](https://www.kaggle.com/dansbecker/model-validation), [underfitting and overfitting](https://www.kaggle.com/dansbecker/underfitting-and-overfitting), and [random forests](https://www.kaggle.com/dansbecker/random-forests).  \n",
    "\n",
    "If you're completely new to machine learning, please check out our [introductory micro-course](https://www.kaggle.com/learn/intro-to-machine-learning), which covers everything you need to prepare for this intermediate micro-course.\n",
    "\n",
    "\n",
    "# Your Turn\n",
    "\n",
    "Continue to the **[first exercise](https://www.kaggle.com/kernels/fork/3370272)** to learn how to submit predictions to a Kaggle competition and determine what you might need to review before getting started."
   ]
  },
  {
   "cell_type": "markdown",
   "id": "extended-index",
   "metadata": {
    "papermill": {
     "duration": 0.002015,
     "end_time": "2021-06-03T16:36:10.405490",
     "exception": false,
     "start_time": "2021-06-03T16:36:10.403475",
     "status": "completed"
    },
    "tags": []
   },
   "source": [
    "---\n",
    "\n",
    "\n",
    "\n",
    "\n",
    "*Have questions or comments? Visit the [Learn Discussion forum](https://www.kaggle.com/learn-forum/161289) to chat with other Learners.*"
   ]
  }
 ],
 "metadata": {
  "kernelspec": {
   "display_name": "Python 3",
   "language": "python",
   "name": "python3"
  },
  "language_info": {
   "codemirror_mode": {
    "name": "ipython",
    "version": 3
   },
   "file_extension": ".py",
   "mimetype": "text/x-python",
   "name": "python",
   "nbconvert_exporter": "python",
   "pygments_lexer": "ipython3",
   "version": "3.7.9"
  },
  "papermill": {
   "default_parameters": {},
   "duration": 6.969323,
   "end_time": "2021-06-03T16:36:11.016666",
   "environment_variables": {},
   "exception": null,
   "input_path": "__notebook__.ipynb",
   "output_path": "__notebook__.ipynb",
   "parameters": {},
   "start_time": "2021-06-03T16:36:04.047343",
   "version": "2.3.2"
  }
 },
 "nbformat": 4,
 "nbformat_minor": 5
}
