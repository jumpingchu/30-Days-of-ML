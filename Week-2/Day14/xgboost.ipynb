{
 "cells": [
  {
   "cell_type": "markdown",
   "id": "dynamic-worry",
   "metadata": {
    "papermill": {
     "duration": 0.00895,
     "end_time": "2021-06-03T16:36:02.439787",
     "exception": false,
     "start_time": "2021-06-03T16:36:02.430837",
     "status": "completed"
    },
    "tags": []
   },
   "source": [
    "In this tutorial, you will learn how to build and optimize models with **gradient boosting**.  This method dominates many Kaggle competitions and achieves state-of-the-art results on a variety of datasets. \n",
    "\n",
    "# Introduction\n",
    "\n",
    "For much of this course, you have made predictions with the random forest method, which achieves better performance than a single decision tree simply by averaging the predictions of many decision trees.\n",
    "\n",
    "We refer to the random forest method as an \"ensemble method\".  By definition, **ensemble methods** combine the predictions of several models (e.g., several trees, in the case of random forests).  \n",
    "\n",
    "Next, we'll learn about another ensemble method called gradient boosting.  \n",
    "\n",
    "# Gradient Boosting\n",
    "\n",
    "**Gradient boosting** is a method that goes through cycles to iteratively add models into an ensemble.  \n",
    "\n",
    "It begins by initializing the ensemble with a single model, whose predictions can be pretty naive.  (Even if its predictions are wildly inaccurate, subsequent additions to the ensemble will address those errors.)\n",
    "\n",
    "Then, we start the cycle:\n",
    "- First, we use the current ensemble to generate predictions for each observation in the dataset.  To make a prediction, we add the predictions from all models in the ensemble.  \n",
    "- These predictions are used to calculate a loss function (like [mean squared error](https://en.wikipedia.org/wiki/Mean_squared_error), for instance).\n",
    "- Then, we use the loss function to fit a new model that will be added to the ensemble.  Specifically, we determine model parameters so that adding this new model to the ensemble will reduce the loss.  (*Side note: The \"gradient\" in \"gradient boosting\" refers to the fact that we'll use [gradient descent](https://en.wikipedia.org/wiki/Gradient_descent) on the loss function to determine the parameters in this new model.*)\n",
    "- Finally, we add the new model to ensemble, and ...\n",
    "- ... repeat!\n",
    "\n",
    "![tut6_boosting](https://i.imgur.com/MvCGENh.png)\n",
    "\n",
    "\n",
    "# Example\n",
    "\n",
    "We begin by loading the training and validation data in `X_train`, `X_valid`, `y_train`, and `y_valid`. "
   ]
  },
  {
   "cell_type": "code",
   "execution_count": 1,
   "id": "exciting-windsor",
   "metadata": {
    "_kg_hide-input": true,
    "_kg_hide-output": true,
    "execution": {
     "iopub.execute_input": "2021-06-03T16:36:02.459559Z",
     "iopub.status.busy": "2021-06-03T16:36:02.458644Z",
     "iopub.status.idle": "2021-06-03T16:36:03.667019Z",
     "shell.execute_reply": "2021-06-03T16:36:03.666441Z"
    },
    "papermill": {
     "duration": 1.218859,
     "end_time": "2021-06-03T16:36:03.667181",
     "exception": false,
     "start_time": "2021-06-03T16:36:02.448322",
     "status": "completed"
    },
    "tags": []
   },
   "outputs": [],
   "source": [
    "\n",
    "import pandas as pd\n",
    "from sklearn.model_selection import train_test_split\n",
    "\n",
    "# Read the data\n",
    "data = pd.read_csv('../input/melbourne-housing-snapshot/melb_data.csv')\n",
    "\n",
    "# Select subset of predictors\n",
    "cols_to_use = ['Rooms', 'Distance', 'Landsize', 'BuildingArea', 'YearBuilt']\n",
    "X = data[cols_to_use]\n",
    "\n",
    "# Select target\n",
    "y = data.Price\n",
    "\n",
    "# Separate data into training and validation sets\n",
    "X_train, X_valid, y_train, y_valid = train_test_split(X, y)"
   ]
  },
  {
   "cell_type": "markdown",
   "id": "hungarian-property",
   "metadata": {
    "papermill": {
     "duration": 0.007373,
     "end_time": "2021-06-03T16:36:03.683105",
     "exception": false,
     "start_time": "2021-06-03T16:36:03.675732",
     "status": "completed"
    },
    "tags": []
   },
   "source": [
    "In this example, you'll work with the XGBoost library.  **XGBoost** stands for **extreme gradient boosting**, which is an implementation of gradient boosting with several additional features focused on performance and speed.  (_Scikit-learn has another version of gradient boosting, but XGBoost has some technical advantages._) \n",
    "\n",
    "In the next code cell, we import the scikit-learn API for XGBoost ([`xgboost.XGBRegressor`](https://xgboost.readthedocs.io/en/latest/python/python_api.html#module-xgboost.sklearn)).  This allows us to build and fit a model just as we would in scikit-learn.  As you'll see in the output, the `XGBRegressor` class has many tunable parameters -- you'll learn about those soon!"
   ]
  },
  {
   "cell_type": "code",
   "execution_count": 2,
   "id": "ignored-forty",
   "metadata": {
    "_kg_hide-output": true,
    "execution": {
     "iopub.execute_input": "2021-06-03T16:36:03.702455Z",
     "iopub.status.busy": "2021-06-03T16:36:03.701756Z",
     "iopub.status.idle": "2021-06-03T16:36:04.331489Z",
     "shell.execute_reply": "2021-06-03T16:36:04.330568Z"
    },
    "papermill": {
     "duration": 0.640929,
     "end_time": "2021-06-03T16:36:04.331630",
     "exception": false,
     "start_time": "2021-06-03T16:36:03.690701",
     "status": "completed"
    },
    "tags": []
   },
   "outputs": [
    {
     "data": {
      "text/plain": [
       "XGBRegressor(base_score=0.5, booster='gbtree', colsample_bylevel=1,\n",
       "             colsample_bynode=1, colsample_bytree=1, gamma=0, gpu_id=-1,\n",
       "             importance_type='gain', interaction_constraints='',\n",
       "             learning_rate=0.300000012, max_delta_step=0, max_depth=6,\n",
       "             min_child_weight=1, missing=nan, monotone_constraints='()',\n",
       "             n_estimators=100, n_jobs=4, num_parallel_tree=1, random_state=0,\n",
       "             reg_alpha=0, reg_lambda=1, scale_pos_weight=1, subsample=1,\n",
       "             tree_method='exact', validate_parameters=1, verbosity=None)"
      ]
     },
     "execution_count": 2,
     "metadata": {},
     "output_type": "execute_result"
    }
   ],
   "source": [
    "from xgboost import XGBRegressor\n",
    "\n",
    "my_model = XGBRegressor()\n",
    "my_model.fit(X_train, y_train)"
   ]
  },
  {
   "cell_type": "markdown",
   "id": "loaded-phoenix",
   "metadata": {
    "papermill": {
     "duration": 0.007828,
     "end_time": "2021-06-03T16:36:04.347603",
     "exception": false,
     "start_time": "2021-06-03T16:36:04.339775",
     "status": "completed"
    },
    "tags": []
   },
   "source": [
    "We also make predictions and evaluate the model."
   ]
  },
  {
   "cell_type": "code",
   "execution_count": 3,
   "id": "desirable-performance",
   "metadata": {
    "execution": {
     "iopub.execute_input": "2021-06-03T16:36:04.368858Z",
     "iopub.status.busy": "2021-06-03T16:36:04.368242Z",
     "iopub.status.idle": "2021-06-03T16:36:04.381314Z",
     "shell.execute_reply": "2021-06-03T16:36:04.380767Z"
    },
    "papermill": {
     "duration": 0.025761,
     "end_time": "2021-06-03T16:36:04.381433",
     "exception": false,
     "start_time": "2021-06-03T16:36:04.355672",
     "status": "completed"
    },
    "tags": []
   },
   "outputs": [
    {
     "name": "stdout",
     "output_type": "stream",
     "text": [
      "Mean Absolute Error: 238794.73582819404\n"
     ]
    }
   ],
   "source": [
    "from sklearn.metrics import mean_absolute_error\n",
    "\n",
    "predictions = my_model.predict(X_valid)\n",
    "print(\"Mean Absolute Error: \" + str(mean_absolute_error(predictions, y_valid)))"
   ]
  },
  {
   "cell_type": "markdown",
   "id": "sophisticated-mainstream",
   "metadata": {
    "papermill": {
     "duration": 0.008008,
     "end_time": "2021-06-03T16:36:04.397914",
     "exception": false,
     "start_time": "2021-06-03T16:36:04.389906",
     "status": "completed"
    },
    "tags": []
   },
   "source": [
    "# Parameter Tuning\n",
    "\n",
    "XGBoost has a few parameters that can dramatically affect accuracy and training speed.  The first parameters you should understand are:\n",
    "\n",
    "### `n_estimators`\n",
    "`n_estimators` specifies how many times to go through the modeling cycle described above.  It is equal to the number of models that we include in the ensemble. \n",
    "\n",
    "- Too _low_ a value causes _underfitting_, which leads to inaccurate predictions on both training data and test data. \n",
    "- Too _high_ a value causes _overfitting_, which causes accurate predictions on training data, but inaccurate predictions on test data (_which is what we care about_). \n",
    "\n",
    "Typical values range from 100-1000, though this depends a lot on the `learning_rate` parameter discussed below.\n",
    "\n",
    "Here is the code to set the number of models in the ensemble:"
   ]
  },
  {
   "cell_type": "code",
   "execution_count": 4,
   "id": "instrumental-interim",
   "metadata": {
    "_kg_hide-output": true,
    "execution": {
     "iopub.execute_input": "2021-06-03T16:36:04.419202Z",
     "iopub.status.busy": "2021-06-03T16:36:04.418583Z",
     "iopub.status.idle": "2021-06-03T16:36:06.061291Z",
     "shell.execute_reply": "2021-06-03T16:36:06.061779Z"
    },
    "papermill": {
     "duration": 1.655906,
     "end_time": "2021-06-03T16:36:06.061967",
     "exception": false,
     "start_time": "2021-06-03T16:36:04.406061",
     "status": "completed"
    },
    "tags": []
   },
   "outputs": [
    {
     "data": {
      "text/plain": [
       "XGBRegressor(base_score=0.5, booster='gbtree', colsample_bylevel=1,\n",
       "             colsample_bynode=1, colsample_bytree=1, gamma=0, gpu_id=-1,\n",
       "             importance_type='gain', interaction_constraints='',\n",
       "             learning_rate=0.300000012, max_delta_step=0, max_depth=6,\n",
       "             min_child_weight=1, missing=nan, monotone_constraints='()',\n",
       "             n_estimators=500, n_jobs=4, num_parallel_tree=1, random_state=0,\n",
       "             reg_alpha=0, reg_lambda=1, scale_pos_weight=1, subsample=1,\n",
       "             tree_method='exact', validate_parameters=1, verbosity=None)"
      ]
     },
     "execution_count": 4,
     "metadata": {},
     "output_type": "execute_result"
    }
   ],
   "source": [
    "\n",
    "my_model = XGBRegressor(n_estimators=500)\n",
    "my_model.fit(X_train, y_train)"
   ]
  },
  {
   "cell_type": "markdown",
   "id": "irish-increase",
   "metadata": {
    "papermill": {
     "duration": 0.008516,
     "end_time": "2021-06-03T16:36:06.079722",
     "exception": false,
     "start_time": "2021-06-03T16:36:06.071206",
     "status": "completed"
    },
    "tags": []
   },
   "source": [
    "### `early_stopping_rounds`\n",
    "\n",
    "`early_stopping_rounds` offers a way to automatically find the ideal value for `n_estimators`. Early stopping causes the model to stop iterating when the validation score stops improving, even if we aren't at the hard stop for `n_estimators`.  It's smart to set a high value for `n_estimators` and then use `early_stopping_rounds` to find the optimal time to stop iterating.\n",
    "\n",
    "Since random chance sometimes causes a single round where validation scores don't improve, you need to specify a number for how many rounds of straight deterioration to allow before stopping.  Setting `early_stopping_rounds=5` is a reasonable choice.  In this case, we stop after 5 straight rounds of deteriorating validation scores.\n",
    "\n",
    "When using `early_stopping_rounds`, you also need to set aside some data for calculating the validation scores - this is done by setting the `eval_set` parameter.  \n",
    "\n",
    "We can modify the example above to include early stopping:"
   ]
  },
  {
   "cell_type": "code",
   "execution_count": 5,
   "id": "brazilian-barrel",
   "metadata": {
    "_kg_hide-output": true,
    "execution": {
     "iopub.execute_input": "2021-06-03T16:36:06.104601Z",
     "iopub.status.busy": "2021-06-03T16:36:06.103910Z",
     "iopub.status.idle": "2021-06-03T16:36:06.275372Z",
     "shell.execute_reply": "2021-06-03T16:36:06.274884Z"
    },
    "papermill": {
     "duration": 0.185592,
     "end_time": "2021-06-03T16:36:06.275506",
     "exception": false,
     "start_time": "2021-06-03T16:36:06.089914",
     "status": "completed"
    },
    "tags": []
   },
   "outputs": [
    {
     "data": {
      "text/plain": [
       "XGBRegressor(base_score=0.5, booster='gbtree', colsample_bylevel=1,\n",
       "             colsample_bynode=1, colsample_bytree=1, gamma=0, gpu_id=-1,\n",
       "             importance_type='gain', interaction_constraints='',\n",
       "             learning_rate=0.300000012, max_delta_step=0, max_depth=6,\n",
       "             min_child_weight=1, missing=nan, monotone_constraints='()',\n",
       "             n_estimators=500, n_jobs=4, num_parallel_tree=1, random_state=0,\n",
       "             reg_alpha=0, reg_lambda=1, scale_pos_weight=1, subsample=1,\n",
       "             tree_method='exact', validate_parameters=1, verbosity=None)"
      ]
     },
     "execution_count": 5,
     "metadata": {},
     "output_type": "execute_result"
    }
   ],
   "source": [
    "\n",
    "my_model = XGBRegressor(n_estimators=500)\n",
    "my_model.fit(X_train, y_train, \n",
    "             early_stopping_rounds=5, \n",
    "             eval_set=[(X_valid, y_valid)],\n",
    "             verbose=False)"
   ]
  },
  {
   "cell_type": "markdown",
   "id": "regular-triumph",
   "metadata": {
    "papermill": {
     "duration": 0.008613,
     "end_time": "2021-06-03T16:36:06.293205",
     "exception": false,
     "start_time": "2021-06-03T16:36:06.284592",
     "status": "completed"
    },
    "tags": []
   },
   "source": [
    "If you later want to fit a model with all of your data, set `n_estimators` to whatever value you found to be optimal when run with early stopping.\n",
    "\n",
    "### `learning_rate`\n",
    "\n",
    "Instead of getting predictions by simply adding up the predictions from each component model, we can multiply the predictions from each model by a small number (known as the **learning rate**) before adding them in.  \n",
    "\n",
    "This means each tree we add to the ensemble helps us less.  So, we can set a higher value for `n_estimators` without overfitting.  If we use early stopping, the appropriate number of trees will be determined automatically.\n",
    "\n",
    "In general, a small learning rate and large number of estimators will yield more accurate XGBoost models, though it will also take the model longer to train since it does more iterations through the cycle.  As default, XGBoost sets `learning_rate=0.1`.\n",
    "\n",
    "Modifying the example above to change the learning rate yields the following code:"
   ]
  },
  {
   "cell_type": "code",
   "execution_count": 6,
   "id": "silent-manual",
   "metadata": {
    "_kg_hide-output": true,
    "execution": {
     "iopub.execute_input": "2021-06-03T16:36:06.327430Z",
     "iopub.status.busy": "2021-06-03T16:36:06.326645Z",
     "iopub.status.idle": "2021-06-03T16:36:07.113024Z",
     "shell.execute_reply": "2021-06-03T16:36:07.112536Z"
    },
    "papermill": {
     "duration": 0.811114,
     "end_time": "2021-06-03T16:36:07.113150",
     "exception": false,
     "start_time": "2021-06-03T16:36:06.302036",
     "status": "completed"
    },
    "tags": []
   },
   "outputs": [
    {
     "data": {
      "text/plain": [
       "XGBRegressor(base_score=0.5, booster='gbtree', colsample_bylevel=1,\n",
       "             colsample_bynode=1, colsample_bytree=1, gamma=0, gpu_id=-1,\n",
       "             importance_type='gain', interaction_constraints='',\n",
       "             learning_rate=0.05, max_delta_step=0, max_depth=6,\n",
       "             min_child_weight=1, missing=nan, monotone_constraints='()',\n",
       "             n_estimators=1000, n_jobs=4, num_parallel_tree=1, random_state=0,\n",
       "             reg_alpha=0, reg_lambda=1, scale_pos_weight=1, subsample=1,\n",
       "             tree_method='exact', validate_parameters=1, verbosity=None)"
      ]
     },
     "execution_count": 6,
     "metadata": {},
     "output_type": "execute_result"
    }
   ],
   "source": [
    "\n",
    "my_model = XGBRegressor(n_estimators=1000, learning_rate=0.05)\n",
    "my_model.fit(X_train, y_train, \n",
    "             early_stopping_rounds=5, \n",
    "             eval_set=[(X_valid, y_valid)], \n",
    "             verbose=False)"
   ]
  },
  {
   "cell_type": "markdown",
   "id": "sudden-credit",
   "metadata": {
    "papermill": {
     "duration": 0.008982,
     "end_time": "2021-06-03T16:36:07.131509",
     "exception": false,
     "start_time": "2021-06-03T16:36:07.122527",
     "status": "completed"
    },
    "tags": []
   },
   "source": [
    "### `n_jobs`\n",
    "On larger datasets where runtime is a consideration, you can use parallelism to build your models faster.  It's common to set the parameter `n_jobs` equal to the number of cores on your machine.  On smaller datasets, this won't help. \n",
    "\n",
    "The resulting model won't be any better, so micro-optimizing for fitting time is typically nothing but a distraction. But, it's useful in large datasets where you would otherwise spend a long time waiting during the `fit` command.\n",
    "\n",
    "Here's the modified example:"
   ]
  },
  {
   "cell_type": "code",
   "execution_count": 7,
   "id": "composite-boston",
   "metadata": {
    "_kg_hide-output": true,
    "execution": {
     "iopub.execute_input": "2021-06-03T16:36:07.156054Z",
     "iopub.status.busy": "2021-06-03T16:36:07.155419Z",
     "iopub.status.idle": "2021-06-03T16:36:07.850456Z",
     "shell.execute_reply": "2021-06-03T16:36:07.850811Z"
    },
    "papermill": {
     "duration": 0.710302,
     "end_time": "2021-06-03T16:36:07.850981",
     "exception": false,
     "start_time": "2021-06-03T16:36:07.140679",
     "status": "completed"
    },
    "tags": []
   },
   "outputs": [
    {
     "data": {
      "text/plain": [
       "XGBRegressor(base_score=0.5, booster='gbtree', colsample_bylevel=1,\n",
       "             colsample_bynode=1, colsample_bytree=1, gamma=0, gpu_id=-1,\n",
       "             importance_type='gain', interaction_constraints='',\n",
       "             learning_rate=0.05, max_delta_step=0, max_depth=6,\n",
       "             min_child_weight=1, missing=nan, monotone_constraints='()',\n",
       "             n_estimators=1000, n_jobs=4, num_parallel_tree=1, random_state=0,\n",
       "             reg_alpha=0, reg_lambda=1, scale_pos_weight=1, subsample=1,\n",
       "             tree_method='exact', validate_parameters=1, verbosity=None)"
      ]
     },
     "execution_count": 7,
     "metadata": {},
     "output_type": "execute_result"
    }
   ],
   "source": [
    "\n",
    "my_model = XGBRegressor(n_estimators=1000, learning_rate=0.05, n_jobs=4)\n",
    "my_model.fit(X_train, y_train, \n",
    "             early_stopping_rounds=5, \n",
    "             eval_set=[(X_valid, y_valid)], \n",
    "             verbose=False)"
   ]
  },
  {
   "cell_type": "markdown",
   "id": "married-particle",
   "metadata": {
    "papermill": {
     "duration": 0.010599,
     "end_time": "2021-06-03T16:36:07.871323",
     "exception": false,
     "start_time": "2021-06-03T16:36:07.860724",
     "status": "completed"
    },
    "tags": []
   },
   "source": [
    "# Conclusion\n",
    "\n",
    "[XGBoost](https://xgboost.readthedocs.io/en/latest/) is a the leading software library for working with standard tabular data (the type of data you store in Pandas DataFrames, as opposed to more exotic types of data like images and videos).  With careful parameter tuning, you can train highly accurate models. \n",
    "\n",
    "# Your Turn\n",
    "\n",
    "Train your own model with XGBoost in the **[next exercise](https://www.kaggle.com/kernels/fork/3370271)**!"
   ]
  },
  {
   "cell_type": "markdown",
   "id": "received-strip",
   "metadata": {
    "papermill": {
     "duration": 0.009553,
     "end_time": "2021-06-03T16:36:07.890638",
     "exception": false,
     "start_time": "2021-06-03T16:36:07.881085",
     "status": "completed"
    },
    "tags": []
   },
   "source": [
    "---\n",
    "\n",
    "\n",
    "\n",
    "\n",
    "*Have questions or comments? Visit the [Learn Discussion forum](https://www.kaggle.com/learn-forum/161289) to chat with other Learners.*"
   ]
  }
 ],
 "metadata": {
  "kernelspec": {
   "display_name": "Python 3",
   "language": "python",
   "name": "python3"
  },
  "language_info": {
   "codemirror_mode": {
    "name": "ipython",
    "version": 3
   },
   "file_extension": ".py",
   "mimetype": "text/x-python",
   "name": "python",
   "nbconvert_exporter": "python",
   "pygments_lexer": "ipython3",
   "version": "3.7.9"
  },
  "papermill": {
   "default_parameters": {},
   "duration": 11.604403,
   "end_time": "2021-06-03T16:36:08.509807",
   "environment_variables": {},
   "exception": null,
   "input_path": "__notebook__.ipynb",
   "output_path": "__notebook__.ipynb",
   "parameters": {},
   "start_time": "2021-06-03T16:35:56.905404",
   "version": "2.3.2"
  }
 },
 "nbformat": 4,
 "nbformat_minor": 5
}
