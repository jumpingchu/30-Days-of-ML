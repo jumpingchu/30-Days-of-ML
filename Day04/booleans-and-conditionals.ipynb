{
 "cells": [
  {
   "cell_type": "markdown",
   "id": "modern-terror",
   "metadata": {
    "papermill": {
     "duration": 0.017089,
     "end_time": "2021-06-03T18:34:45.543994",
     "exception": false,
     "start_time": "2021-06-03T18:34:45.526905",
     "status": "completed"
    },
    "tags": []
   },
   "source": [
    "# Booleans\n",
    "\n",
    "Python has a type of variable called `bool`. It has two possible values: `True` and `False`."
   ]
  },
  {
   "cell_type": "code",
   "execution_count": 1,
   "id": "assigned-acquisition",
   "metadata": {
    "collapsed": true,
    "execution": {
     "iopub.execute_input": "2021-06-03T18:34:45.583139Z",
     "iopub.status.busy": "2021-06-03T18:34:45.581333Z",
     "iopub.status.idle": "2021-06-03T18:34:45.588501Z",
     "shell.execute_reply": "2021-06-03T18:34:45.587596Z"
    },
    "papermill": {
     "duration": 0.027935,
     "end_time": "2021-06-03T18:34:45.588687",
     "exception": false,
     "start_time": "2021-06-03T18:34:45.560752",
     "status": "completed"
    },
    "tags": []
   },
   "outputs": [
    {
     "name": "stdout",
     "output_type": "stream",
     "text": [
      "True\n",
      "<class 'bool'>\n"
     ]
    }
   ],
   "source": [
    "x = True\n",
    "print(x)\n",
    "print(type(x))"
   ]
  },
  {
   "cell_type": "markdown",
   "id": "impaired-elevation",
   "metadata": {
    "papermill": {
     "duration": 0.016749,
     "end_time": "2021-06-03T18:34:45.622508",
     "exception": false,
     "start_time": "2021-06-03T18:34:45.605759",
     "status": "completed"
    },
    "tags": []
   },
   "source": [
    "Rather than putting `True` or `False` directly in our code, we usually get boolean values from **boolean operators**.  These are operators that answer yes/no questions. We'll go through some of these operators below. "
   ]
  },
  {
   "cell_type": "markdown",
   "id": "voluntary-fault",
   "metadata": {
    "papermill": {
     "duration": 0.016484,
     "end_time": "2021-06-03T18:34:45.655748",
     "exception": false,
     "start_time": "2021-06-03T18:34:45.639264",
     "status": "completed"
    },
    "tags": []
   },
   "source": [
    "## Comparison Operations\n",
    "\n",
    "| Operation     | Description                       || Operation     | Description                          |\n",
    "|---------------|-----------------------------------||---------------|--------------------------------------|\n",
    "| ``a == b``    | ``a`` equal to ``b``              || ``a != b``    | ``a`` not equal to ``b``             |\n",
    "| ``a < b``     | ``a`` less than ``b``             || ``a > b``     | ``a`` greater than ``b``             |\n",
    "| ``a <= b``    | ``a`` less than or equal to ``b`` || ``a >= b``    | ``a`` greater than or equal to ``b`` |\n",
    "\n"
   ]
  },
  {
   "cell_type": "code",
   "execution_count": 2,
   "id": "multiple-lodge",
   "metadata": {
    "collapsed": true,
    "execution": {
     "iopub.execute_input": "2021-06-03T18:34:45.695774Z",
     "iopub.status.busy": "2021-06-03T18:34:45.695103Z",
     "iopub.status.idle": "2021-06-03T18:34:45.697701Z",
     "shell.execute_reply": "2021-06-03T18:34:45.698211Z"
    },
    "papermill": {
     "duration": 0.025872,
     "end_time": "2021-06-03T18:34:45.698419",
     "exception": false,
     "start_time": "2021-06-03T18:34:45.672547",
     "status": "completed"
    },
    "tags": []
   },
   "outputs": [
    {
     "name": "stdout",
     "output_type": "stream",
     "text": [
      "Can a 19-year-old run for president? False\n",
      "Can a 45-year-old run for president? True\n"
     ]
    }
   ],
   "source": [
    "def can_run_for_president(age):\n",
    "    \"\"\"Can someone of the given age run for president in the US?\"\"\"\n",
    "    # The US Constitution says you must be at least 35 years old\n",
    "    return age >= 35\n",
    "\n",
    "print(\"Can a 19-year-old run for president?\", can_run_for_president(19))\n",
    "print(\"Can a 45-year-old run for president?\", can_run_for_president(45))"
   ]
  },
  {
   "cell_type": "markdown",
   "id": "located-mixer",
   "metadata": {
    "papermill": {
     "duration": 0.016845,
     "end_time": "2021-06-03T18:34:45.733970",
     "exception": false,
     "start_time": "2021-06-03T18:34:45.717125",
     "status": "completed"
    },
    "tags": []
   },
   "source": [
    "Comparisons frequently work like you'd hope"
   ]
  },
  {
   "cell_type": "code",
   "execution_count": 3,
   "id": "chinese-contribution",
   "metadata": {
    "collapsed": true,
    "execution": {
     "iopub.execute_input": "2021-06-03T18:34:45.771519Z",
     "iopub.status.busy": "2021-06-03T18:34:45.770874Z",
     "iopub.status.idle": "2021-06-03T18:34:45.777336Z",
     "shell.execute_reply": "2021-06-03T18:34:45.777860Z"
    },
    "papermill": {
     "duration": 0.026921,
     "end_time": "2021-06-03T18:34:45.778026",
     "exception": false,
     "start_time": "2021-06-03T18:34:45.751105",
     "status": "completed"
    },
    "tags": []
   },
   "outputs": [
    {
     "data": {
      "text/plain": [
       "True"
      ]
     },
     "execution_count": 3,
     "metadata": {},
     "output_type": "execute_result"
    }
   ],
   "source": [
    "3.0 == 3"
   ]
  },
  {
   "cell_type": "markdown",
   "id": "verbal-gospel",
   "metadata": {
    "papermill": {
     "duration": 0.018261,
     "end_time": "2021-06-03T18:34:45.813910",
     "exception": false,
     "start_time": "2021-06-03T18:34:45.795649",
     "status": "completed"
    },
    "tags": []
   },
   "source": [
    "But sometimes they can be tricky"
   ]
  },
  {
   "cell_type": "code",
   "execution_count": 4,
   "id": "located-details",
   "metadata": {
    "collapsed": true,
    "execution": {
     "iopub.execute_input": "2021-06-03T18:34:45.852983Z",
     "iopub.status.busy": "2021-06-03T18:34:45.852321Z",
     "iopub.status.idle": "2021-06-03T18:34:45.857616Z",
     "shell.execute_reply": "2021-06-03T18:34:45.857029Z"
    },
    "papermill": {
     "duration": 0.025947,
     "end_time": "2021-06-03T18:34:45.857755",
     "exception": false,
     "start_time": "2021-06-03T18:34:45.831808",
     "status": "completed"
    },
    "tags": []
   },
   "outputs": [
    {
     "data": {
      "text/plain": [
       "False"
      ]
     },
     "execution_count": 4,
     "metadata": {},
     "output_type": "execute_result"
    }
   ],
   "source": [
    "'3' == 3"
   ]
  },
  {
   "cell_type": "markdown",
   "id": "agreed-preparation",
   "metadata": {
    "papermill": {
     "duration": 0.017692,
     "end_time": "2021-06-03T18:34:45.893747",
     "exception": false,
     "start_time": "2021-06-03T18:34:45.876055",
     "status": "completed"
    },
    "tags": []
   },
   "source": [
    "Comparison operators can be combined with the arithmetic operators we've already seen to express a virtually limitless range of mathematical tests. For example, we can check if a number is odd by checking that the modulus with 2 returns 1:"
   ]
  },
  {
   "cell_type": "code",
   "execution_count": 5,
   "id": "criminal-backup",
   "metadata": {
    "collapsed": true,
    "execution": {
     "iopub.execute_input": "2021-06-03T18:34:45.935984Z",
     "iopub.status.busy": "2021-06-03T18:34:45.935016Z",
     "iopub.status.idle": "2021-06-03T18:34:45.938330Z",
     "shell.execute_reply": "2021-06-03T18:34:45.938892Z"
    },
    "papermill": {
     "duration": 0.027289,
     "end_time": "2021-06-03T18:34:45.939063",
     "exception": false,
     "start_time": "2021-06-03T18:34:45.911774",
     "status": "completed"
    },
    "tags": []
   },
   "outputs": [
    {
     "name": "stdout",
     "output_type": "stream",
     "text": [
      "Is 100 odd? False\n",
      "Is -1 odd? True\n"
     ]
    }
   ],
   "source": [
    "def is_odd(n):\n",
    "    return (n % 2) == 1\n",
    "\n",
    "print(\"Is 100 odd?\", is_odd(100))\n",
    "print(\"Is -1 odd?\", is_odd(-1))"
   ]
  },
  {
   "cell_type": "markdown",
   "id": "upper-celebration",
   "metadata": {
    "papermill": {
     "duration": 0.018078,
     "end_time": "2021-06-03T18:34:45.975632",
     "exception": false,
     "start_time": "2021-06-03T18:34:45.957554",
     "status": "completed"
    },
    "tags": []
   },
   "source": [
    "Remember to use `==` instead of `=` when making comparisons. If you write `n == 2` you are asking about the value of n. When you write `n = 2` you are changing the value of n."
   ]
  },
  {
   "cell_type": "markdown",
   "id": "straight-extent",
   "metadata": {
    "papermill": {
     "duration": 0.018133,
     "end_time": "2021-06-03T18:34:46.014938",
     "exception": false,
     "start_time": "2021-06-03T18:34:45.996805",
     "status": "completed"
    },
    "tags": []
   },
   "source": [
    "## Combining Boolean Values\n",
    "You can combine boolean values using the standard concepts of \"and\", \"or\", and \"not\". In fact, the words to do this are: ``and``, ``or``, and ``not``.\n",
    "\n",
    "With these, we can make our `can_run_for_president` function more accurate."
   ]
  },
  {
   "cell_type": "code",
   "execution_count": 6,
   "id": "filled-columbus",
   "metadata": {
    "collapsed": true,
    "execution": {
     "iopub.execute_input": "2021-06-03T18:34:46.058887Z",
     "iopub.status.busy": "2021-06-03T18:34:46.057963Z",
     "iopub.status.idle": "2021-06-03T18:34:46.061044Z",
     "shell.execute_reply": "2021-06-03T18:34:46.061615Z"
    },
    "papermill": {
     "duration": 0.028404,
     "end_time": "2021-06-03T18:34:46.061813",
     "exception": false,
     "start_time": "2021-06-03T18:34:46.033409",
     "status": "completed"
    },
    "tags": []
   },
   "outputs": [
    {
     "name": "stdout",
     "output_type": "stream",
     "text": [
      "False\n",
      "False\n",
      "True\n"
     ]
    }
   ],
   "source": [
    "def can_run_for_president(age, is_natural_born_citizen):\n",
    "    \"\"\"Can someone of the given age and citizenship status run for president in the US?\"\"\"\n",
    "    # The US Constitution says you must be a natural born citizen *and* at least 35 years old\n",
    "    return is_natural_born_citizen and (age >= 35)\n",
    "\n",
    "print(can_run_for_president(19, True))\n",
    "print(can_run_for_president(55, False))\n",
    "print(can_run_for_president(55, True))"
   ]
  },
  {
   "cell_type": "markdown",
   "id": "identified-wallpaper",
   "metadata": {
    "papermill": {
     "duration": 0.018391,
     "end_time": "2021-06-03T18:34:46.099559",
     "exception": false,
     "start_time": "2021-06-03T18:34:46.081168",
     "status": "completed"
    },
    "tags": []
   },
   "source": [
    "Quick, can you guess the value of this expression?"
   ]
  },
  {
   "cell_type": "code",
   "execution_count": 7,
   "id": "polar-silicon",
   "metadata": {
    "_kg_hide-output": true,
    "collapsed": true,
    "execution": {
     "iopub.execute_input": "2021-06-03T18:34:46.144676Z",
     "iopub.status.busy": "2021-06-03T18:34:46.143754Z",
     "iopub.status.idle": "2021-06-03T18:34:46.148412Z",
     "shell.execute_reply": "2021-06-03T18:34:46.147696Z"
    },
    "papermill": {
     "duration": 0.028851,
     "end_time": "2021-06-03T18:34:46.148570",
     "exception": false,
     "start_time": "2021-06-03T18:34:46.119719",
     "status": "completed"
    },
    "tags": []
   },
   "outputs": [
    {
     "data": {
      "text/plain": [
       "True"
      ]
     },
     "execution_count": 7,
     "metadata": {},
     "output_type": "execute_result"
    }
   ],
   "source": [
    "True or True and False"
   ]
  },
  {
   "cell_type": "markdown",
   "id": "removed-employee",
   "metadata": {
    "papermill": {
     "duration": 0.018892,
     "end_time": "2021-06-03T18:34:46.186943",
     "exception": false,
     "start_time": "2021-06-03T18:34:46.168051",
     "status": "completed"
    },
    "tags": []
   },
   "source": [
    "(Click the \"output\" button to see the answer)\n",
    "\n",
    "To answer this, you'd need to figure out the order of operations. \n",
    "\n",
    "For example, `and` is evaluated before `or`. That's why the first expression above is `True`. If we evaluated it from left to right, we would have calculated `True or True` first (which is `True`), and then taken the `and` of that result with `False`, giving a final value of `False`.\n",
    "\n",
    "You could try to [memorize the order of precedence](https://docs.python.org/3/reference/expressions.html#operator-precedence), but a safer bet is to just use liberal parentheses. Not only does this help prevent bugs, it makes your intentions clearer to anyone who reads your code. \n",
    "\n",
    "For example, consider the following expression:\n",
    "\n",
    "```python\n",
    "prepared_for_weather = have_umbrella or rain_level < 5 and have_hood or not rain_level > 0 and is_workday\n",
    "```\n",
    "\n",
    "I'm trying to say that I'm safe from today's weather....\n",
    "- if I have an umbrella...\n",
    "- or if the rain isn't too heavy and I have a hood...\n",
    "- otherwise, I'm still fine unless it's raining *and* it's a workday\n",
    "\n",
    "But not only is my Python code hard to read, it has a bug. We can address both problems by adding some parentheses:\n",
    "\n",
    "```python\n",
    "prepared_for_weather = have_umbrella or (rain_level < 5 and have_hood) or not (rain_level > 0 and is_workday)\n",
    "```\n",
    "\n",
    "You can add even more parentheses if you think it helps readability:\n",
    "\n",
    "```python\n",
    "prepared_for_weather = have_umbrella or ((rain_level < 5) and have_hood) or (not (rain_level > 0 and is_workday))\n",
    "```\n",
    "\n",
    "We can also split it over multiple lines to emphasize the 3-part structure described above:\n",
    "\n",
    "```python\n",
    "prepared_for_weather = (\n",
    "    have_umbrella \n",
    "    or ((rain_level < 5) and have_hood) \n",
    "    or (not (rain_level > 0 and is_workday))\n",
    ")\n",
    "```"
   ]
  },
  {
   "cell_type": "markdown",
   "id": "geographic-absorption",
   "metadata": {
    "papermill": {
     "duration": 0.018774,
     "end_time": "2021-06-03T18:34:46.224973",
     "exception": false,
     "start_time": "2021-06-03T18:34:46.206199",
     "status": "completed"
    },
    "tags": []
   },
   "source": [
    "# Conditionals\n",
    "\n",
    "Booleans are most useful when combined with *conditional statements*, using the keywords ``if``, ``elif``, and ``else``.\n",
    "\n",
    "Conditional statements, often referred to as *if-then* statements, let you control what pieces of code are run based on the value of some Boolean condition.\n",
    "Here's an example:"
   ]
  },
  {
   "cell_type": "code",
   "execution_count": 8,
   "id": "sensitive-arctic",
   "metadata": {
    "collapsed": true,
    "execution": {
     "iopub.execute_input": "2021-06-03T18:34:46.270055Z",
     "iopub.status.busy": "2021-06-03T18:34:46.269150Z",
     "iopub.status.idle": "2021-06-03T18:34:46.273236Z",
     "shell.execute_reply": "2021-06-03T18:34:46.273761Z"
    },
    "papermill": {
     "duration": 0.029514,
     "end_time": "2021-06-03T18:34:46.273934",
     "exception": false,
     "start_time": "2021-06-03T18:34:46.244420",
     "status": "completed"
    },
    "tags": []
   },
   "outputs": [
    {
     "name": "stdout",
     "output_type": "stream",
     "text": [
      "0 is zero\n",
      "-15 is negative\n"
     ]
    }
   ],
   "source": [
    "def inspect(x):\n",
    "    if x == 0:\n",
    "        print(x, \"is zero\")\n",
    "    elif x > 0:\n",
    "        print(x, \"is positive\")\n",
    "    elif x < 0:\n",
    "        print(x, \"is negative\")\n",
    "    else:\n",
    "        print(x, \"is unlike anything I've ever seen...\")\n",
    "\n",
    "inspect(0)\n",
    "inspect(-15)"
   ]
  },
  {
   "cell_type": "markdown",
   "id": "polyphonic-spectrum",
   "metadata": {
    "papermill": {
     "duration": 0.019307,
     "end_time": "2021-06-03T18:34:46.313117",
     "exception": false,
     "start_time": "2021-06-03T18:34:46.293810",
     "status": "completed"
    },
    "tags": []
   },
   "source": [
    "The ``if`` and ``else`` keywords are often used in other languages; its more unique keyword is ``elif``, a contraction of \"else if\".\n",
    "In these conditional clauses, ``elif`` and ``else`` blocks are optional; additionally, you can include as many ``elif`` statements as you would like.\n",
    "\n",
    "Note especially the use of colons (``:``) and whitespace to denote separate blocks of code. This is similar to what happens when we define a function - the function header ends with `:`, and the following line is indented with 4 spaces. All subsequent indented lines belong to the body of the function, until we encounter an unindented line, ending the function definition."
   ]
  },
  {
   "cell_type": "code",
   "execution_count": 9,
   "id": "naked-oxygen",
   "metadata": {
    "collapsed": true,
    "execution": {
     "iopub.execute_input": "2021-06-03T18:34:46.358468Z",
     "iopub.status.busy": "2021-06-03T18:34:46.357794Z",
     "iopub.status.idle": "2021-06-03T18:34:46.362285Z",
     "shell.execute_reply": "2021-06-03T18:34:46.361629Z"
    },
    "papermill": {
     "duration": 0.029745,
     "end_time": "2021-06-03T18:34:46.362449",
     "exception": false,
     "start_time": "2021-06-03T18:34:46.332704",
     "status": "completed"
    },
    "tags": []
   },
   "outputs": [
    {
     "name": "stdout",
     "output_type": "stream",
     "text": [
      "Only printed when x is positive; x = 1\n",
      "Also only printed when x is positive; x = 1\n",
      "Always printed, regardless of x's value; x = 1\n",
      "Always printed, regardless of x's value; x = 0\n"
     ]
    }
   ],
   "source": [
    "def f(x):\n",
    "    if x > 0:\n",
    "        print(\"Only printed when x is positive; x =\", x)\n",
    "        print(\"Also only printed when x is positive; x =\", x)\n",
    "    print(\"Always printed, regardless of x's value; x =\", x)\n",
    "\n",
    "f(1)\n",
    "f(0)"
   ]
  },
  {
   "cell_type": "markdown",
   "id": "cooked-donor",
   "metadata": {
    "papermill": {
     "duration": 0.019736,
     "end_time": "2021-06-03T18:34:46.403406",
     "exception": false,
     "start_time": "2021-06-03T18:34:46.383670",
     "status": "completed"
    },
    "tags": []
   },
   "source": [
    "## Boolean conversion\n",
    "\n",
    "We've seen `int()`, which turns things into ints, and `float()`, which turns things into floats, so you might not be surprised to hear that Python has a `bool()` function which turns things into bools."
   ]
  },
  {
   "cell_type": "code",
   "execution_count": 10,
   "id": "combined-latvia",
   "metadata": {
    "collapsed": true,
    "execution": {
     "iopub.execute_input": "2021-06-03T18:34:46.449342Z",
     "iopub.status.busy": "2021-06-03T18:34:46.448628Z",
     "iopub.status.idle": "2021-06-03T18:34:46.451539Z",
     "shell.execute_reply": "2021-06-03T18:34:46.452083Z"
    },
    "papermill": {
     "duration": 0.028975,
     "end_time": "2021-06-03T18:34:46.452270",
     "exception": false,
     "start_time": "2021-06-03T18:34:46.423295",
     "status": "completed"
    },
    "tags": []
   },
   "outputs": [
    {
     "name": "stdout",
     "output_type": "stream",
     "text": [
      "True\n",
      "False\n",
      "True\n",
      "False\n"
     ]
    }
   ],
   "source": [
    "print(bool(1)) # all numbers are treated as true, except 0\n",
    "print(bool(0))\n",
    "print(bool(\"asf\")) # all strings are treated as true, except the empty string \"\"\n",
    "print(bool(\"\"))\n",
    "# Generally empty sequences (strings, lists, and other types we've yet to see like lists and tuples)\n",
    "# are \"falsey\" and the rest are \"truthy\""
   ]
  },
  {
   "cell_type": "markdown",
   "id": "illegal-positive",
   "metadata": {
    "papermill": {
     "duration": 0.020577,
     "end_time": "2021-06-03T18:34:46.493776",
     "exception": false,
     "start_time": "2021-06-03T18:34:46.473199",
     "status": "completed"
    },
    "tags": []
   },
   "source": [
    "We can use non-boolean objects in `if` conditions and other places where a boolean would be expected. Python will implicitly treat them as their corresponding boolean value:"
   ]
  },
  {
   "cell_type": "code",
   "execution_count": 11,
   "id": "precious-judges",
   "metadata": {
    "collapsed": true,
    "execution": {
     "iopub.execute_input": "2021-06-03T18:34:46.541168Z",
     "iopub.status.busy": "2021-06-03T18:34:46.540398Z",
     "iopub.status.idle": "2021-06-03T18:34:46.543448Z",
     "shell.execute_reply": "2021-06-03T18:34:46.543934Z"
    },
    "papermill": {
     "duration": 0.029393,
     "end_time": "2021-06-03T18:34:46.544115",
     "exception": false,
     "start_time": "2021-06-03T18:34:46.514722",
     "status": "completed"
    },
    "tags": []
   },
   "outputs": [
    {
     "name": "stdout",
     "output_type": "stream",
     "text": [
      "spam\n"
     ]
    }
   ],
   "source": [
    "if 0:\n",
    "    print(0)\n",
    "elif \"spam\":\n",
    "    print(\"spam\")"
   ]
  },
  {
   "cell_type": "markdown",
   "id": "altered-separation",
   "metadata": {
    "papermill": {
     "duration": 0.02139,
     "end_time": "2021-06-03T18:34:46.586900",
     "exception": false,
     "start_time": "2021-06-03T18:34:46.565510",
     "status": "completed"
    },
    "tags": []
   },
   "source": [
    "# Your Turn\n",
    "\n",
    "You probably don't realize how much you have learned so far. Go try the **[hands-on coding problems](https://www.kaggle.com/kernels/fork/1275165)**, and you'll be pleasantly surprised about how much you can do."
   ]
  },
  {
   "cell_type": "markdown",
   "id": "traditional-pontiac",
   "metadata": {
    "papermill": {
     "duration": 0.021471,
     "end_time": "2021-06-03T18:34:46.629497",
     "exception": false,
     "start_time": "2021-06-03T18:34:46.608026",
     "status": "completed"
    },
    "tags": []
   },
   "source": [
    "---\n",
    "\n",
    "\n",
    "\n",
    "\n",
    "*Have questions or comments? Visit the [Learn Discussion forum](https://www.kaggle.com/learn-forum/161283) to chat with other Learners.*"
   ]
  }
 ],
 "metadata": {
  "kernelspec": {
   "display_name": "Python 3",
   "language": "python",
   "name": "python3"
  },
  "language_info": {
   "codemirror_mode": {
    "name": "ipython",
    "version": 3
   },
   "file_extension": ".py",
   "mimetype": "text/x-python",
   "name": "python",
   "nbconvert_exporter": "python",
   "pygments_lexer": "ipython3",
   "version": "3.7.9"
  },
  "learntools_metadata": {
   "lesson_index": 2,
   "type": "tutorial"
  },
  "papermill": {
   "default_parameters": {},
   "duration": 8.540198,
   "end_time": "2021-06-03T18:34:47.260896",
   "environment_variables": {},
   "exception": null,
   "input_path": "__notebook__.ipynb",
   "output_path": "__notebook__.ipynb",
   "parameters": {},
   "start_time": "2021-06-03T18:34:38.720698",
   "version": "2.3.2"
  }
 },
 "nbformat": 4,
 "nbformat_minor": 5
}
